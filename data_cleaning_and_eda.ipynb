{
 "cells": [
  {
   "cell_type": "code",
   "execution_count": 27,
   "id": "9a3bec9e",
   "metadata": {
    "id": "9a3bec9e",
    "papermill": {
     "duration": 0.933579,
     "end_time": "2022-03-15T21:38:05.829673",
     "exception": false,
     "start_time": "2022-03-15T21:38:04.896094",
     "status": "completed"
    },
    "tags": []
   },
   "outputs": [],
   "source": [
    "import pandas as pd\n",
    "import numpy as np\n",
    "import matplotlib.pyplot as plt\n",
    "import matplotlib\n",
    "import math\n",
    "matplotlib.rcParams['figure.figsize'] = (12.75,8.5)"
   ]
  },
  {
   "cell_type": "code",
   "execution_count": 50,
   "id": "EtXgy9jtfKWR",
   "metadata": {
    "colab": {
     "base_uri": "https://localhost:8080/"
    },
    "id": "EtXgy9jtfKWR",
    "outputId": "84a5d7f7-336f-4480-cf5d-facbbbe3c840"
   },
   "outputs": [
    {
     "ename": "ModuleNotFoundError",
     "evalue": "No module named 'google.colab'",
     "output_type": "error",
     "traceback": [
      "\u001b[0;31m---------------------------------------------------------------------------\u001b[0m",
      "\u001b[0;31mModuleNotFoundError\u001b[0m                       Traceback (most recent call last)",
      "Input \u001b[0;32mIn [50]\u001b[0m, in \u001b[0;36m<cell line: 2>\u001b[0;34m()\u001b[0m\n\u001b[1;32m      1\u001b[0m \u001b[38;5;66;03m# Mazen only code\u001b[39;00m\n\u001b[0;32m----> 2\u001b[0m \u001b[38;5;28;01mfrom\u001b[39;00m \u001b[38;5;21;01mgoogle\u001b[39;00m\u001b[38;5;21;01m.\u001b[39;00m\u001b[38;5;21;01mcolab\u001b[39;00m \u001b[38;5;28;01mimport\u001b[39;00m drive\n\u001b[1;32m      3\u001b[0m drive\u001b[38;5;241m.\u001b[39mmount(\u001b[38;5;124m'\u001b[39m\u001b[38;5;124m/content/drive\u001b[39m\u001b[38;5;124m'\u001b[39m)\n\u001b[1;32m      5\u001b[0m get_ipython()\u001b[38;5;241m.\u001b[39mrun_line_magic(\u001b[38;5;124m'\u001b[39m\u001b[38;5;124mcd\u001b[39m\u001b[38;5;124m'\u001b[39m, \u001b[38;5;124m\"\u001b[39m\u001b[38;5;124m'\u001b[39m\u001b[38;5;124mdrive/MyDrive/Concordia/SOEN 6611 - Measurements/Project\u001b[39m\u001b[38;5;124m'\u001b[39m\u001b[38;5;124m\"\u001b[39m)\n",
      "\u001b[0;31mModuleNotFoundError\u001b[0m: No module named 'google.colab'"
     ]
    }
   ],
   "source": [
    "# Mazen only code\n",
    "from google.colab import drive\n",
    "drive.mount('/content/drive')\n",
    "\n",
    "%cd 'drive/MyDrive/Concordia/SOEN 6611 - Measurements/Project'"
   ]
  },
  {
   "cell_type": "code",
   "execution_count": null,
   "id": "LWYBDe2itmXR",
   "metadata": {
    "id": "LWYBDe2itmXR"
   },
   "outputs": [],
   "source": [
    "# Reza only code\n",
    "from google.colab import drive\n",
    "drive.mount('/content/drive')\n",
    "\n",
    "%cd 'drive/MyDrive'"
   ]
  },
  {
   "cell_type": "code",
   "execution_count": 28,
   "id": "195867b7-6441-45a6-af78-325f67de29d1",
   "metadata": {
    "colab": {
     "base_uri": "https://localhost:8080/",
     "height": 354
    },
    "id": "195867b7-6441-45a6-af78-325f67de29d1",
    "outputId": "a4bb1f9f-6dc6-47b7-b222-3e85293a4a02"
   },
   "outputs": [
    {
     "data": {
      "text/html": [
       "<div>\n",
       "<style scoped>\n",
       "    .dataframe tbody tr th:only-of-type {\n",
       "        vertical-align: middle;\n",
       "    }\n",
       "\n",
       "    .dataframe tbody tr th {\n",
       "        vertical-align: top;\n",
       "    }\n",
       "\n",
       "    .dataframe thead th {\n",
       "        text-align: right;\n",
       "    }\n",
       "</style>\n",
       "<table border=\"1\" class=\"dataframe\">\n",
       "  <thead>\n",
       "    <tr style=\"text-align: right;\">\n",
       "      <th></th>\n",
       "      <th>Company</th>\n",
       "      <th>Valuation ($B)</th>\n",
       "      <th>Date Joined</th>\n",
       "      <th>Country</th>\n",
       "      <th>City</th>\n",
       "      <th>Industry</th>\n",
       "      <th>Select Inverstors</th>\n",
       "      <th>Founded Year</th>\n",
       "      <th>Total Raised</th>\n",
       "      <th>Financial Stage</th>\n",
       "      <th>Investors Count</th>\n",
       "      <th>Deal Terms</th>\n",
       "      <th>Portfolio Exits</th>\n",
       "    </tr>\n",
       "  </thead>\n",
       "  <tbody>\n",
       "    <tr>\n",
       "      <th>0</th>\n",
       "      <td>Bytedance</td>\n",
       "      <td>$140</td>\n",
       "      <td>4/7/2017</td>\n",
       "      <td>China</td>\n",
       "      <td>Beijing</td>\n",
       "      <td>Artificial intelligence</td>\n",
       "      <td>Sequoia Capital China, SIG Asia Investments, S...</td>\n",
       "      <td>2012</td>\n",
       "      <td>$7.44B</td>\n",
       "      <td>IPO</td>\n",
       "      <td>28</td>\n",
       "      <td>8</td>\n",
       "      <td>5</td>\n",
       "    </tr>\n",
       "    <tr>\n",
       "      <th>1</th>\n",
       "      <td>SpaceX</td>\n",
       "      <td>$100.3</td>\n",
       "      <td>12/1/2012</td>\n",
       "      <td>United States</td>\n",
       "      <td>Hawthorne</td>\n",
       "      <td>Other</td>\n",
       "      <td>Founders Fund, Draper Fisher Jurvetson, Rothen...</td>\n",
       "      <td>2002</td>\n",
       "      <td>$6.874B</td>\n",
       "      <td>None</td>\n",
       "      <td>29</td>\n",
       "      <td>12</td>\n",
       "      <td>None</td>\n",
       "    </tr>\n",
       "    <tr>\n",
       "      <th>2</th>\n",
       "      <td>Stripe</td>\n",
       "      <td>$95</td>\n",
       "      <td>1/23/2014</td>\n",
       "      <td>United States</td>\n",
       "      <td>San Francisco</td>\n",
       "      <td>Fintech</td>\n",
       "      <td>Khosla Ventures, LowercaseCapital, capitalG</td>\n",
       "      <td>2010</td>\n",
       "      <td>$2.901B</td>\n",
       "      <td>Asset</td>\n",
       "      <td>39</td>\n",
       "      <td>12</td>\n",
       "      <td>1</td>\n",
       "    </tr>\n",
       "    <tr>\n",
       "      <th>3</th>\n",
       "      <td>Klarna</td>\n",
       "      <td>$45.6</td>\n",
       "      <td>12/12/2011</td>\n",
       "      <td>Sweden</td>\n",
       "      <td>Stockholm</td>\n",
       "      <td>Fintech</td>\n",
       "      <td>Institutional Venture Partners, Sequoia Capita...</td>\n",
       "      <td>2005</td>\n",
       "      <td>$3.472B</td>\n",
       "      <td>Acquired</td>\n",
       "      <td>56</td>\n",
       "      <td>13</td>\n",
       "      <td>1</td>\n",
       "    </tr>\n",
       "    <tr>\n",
       "      <th>4</th>\n",
       "      <td>Epic Games</td>\n",
       "      <td>$42</td>\n",
       "      <td>10/26/2018</td>\n",
       "      <td>United States</td>\n",
       "      <td>Cary</td>\n",
       "      <td>Other</td>\n",
       "      <td>Tencent Holdings, KKR, Smash Ventures</td>\n",
       "      <td>1991</td>\n",
       "      <td>$4.377B</td>\n",
       "      <td>Acquired</td>\n",
       "      <td>25</td>\n",
       "      <td>5</td>\n",
       "      <td>2</td>\n",
       "    </tr>\n",
       "  </tbody>\n",
       "</table>\n",
       "</div>"
      ],
      "text/plain": [
       "      Company Valuation ($B) Date Joined        Country           City  \\\n",
       "0   Bytedance           $140    4/7/2017          China        Beijing   \n",
       "1      SpaceX         $100.3   12/1/2012  United States      Hawthorne   \n",
       "2      Stripe            $95   1/23/2014  United States  San Francisco   \n",
       "3      Klarna          $45.6  12/12/2011         Sweden      Stockholm   \n",
       "4  Epic Games            $42  10/26/2018  United States           Cary   \n",
       "\n",
       "                  Industry                                  Select Inverstors  \\\n",
       "0  Artificial intelligence  Sequoia Capital China, SIG Asia Investments, S...   \n",
       "1                    Other  Founders Fund, Draper Fisher Jurvetson, Rothen...   \n",
       "2                  Fintech        Khosla Ventures, LowercaseCapital, capitalG   \n",
       "3                  Fintech  Institutional Venture Partners, Sequoia Capita...   \n",
       "4                    Other              Tencent Holdings, KKR, Smash Ventures   \n",
       "\n",
       "  Founded Year Total Raised Financial Stage Investors Count Deal Terms  \\\n",
       "0         2012       $7.44B             IPO              28          8   \n",
       "1         2002      $6.874B            None              29         12   \n",
       "2         2010      $2.901B           Asset              39         12   \n",
       "3         2005      $3.472B        Acquired              56         13   \n",
       "4         1991      $4.377B        Acquired              25          5   \n",
       "\n",
       "  Portfolio Exits  \n",
       "0               5  \n",
       "1            None  \n",
       "2               1  \n",
       "3               1  \n",
       "4               2  "
      ]
     },
     "execution_count": 28,
     "metadata": {},
     "output_type": "execute_result"
    }
   ],
   "source": [
    "df = pd.read_csv(\"./Unicorn_Companies.csv\")\n",
    "df.head()"
   ]
  },
  {
   "cell_type": "code",
   "execution_count": 29,
   "id": "9ad2b524-8de2-47d4-8d95-95cfd521342b",
   "metadata": {
    "colab": {
     "base_uri": "https://localhost:8080/",
     "height": 193
    },
    "id": "9ad2b524-8de2-47d4-8d95-95cfd521342b",
    "outputId": "d0511e96-d229-4220-b6c9-c7860af09476"
   },
   "outputs": [
    {
     "name": "stdout",
     "output_type": "stream",
     "text": [
      "(1037, 13)\n"
     ]
    },
    {
     "data": {
      "text/html": [
       "<div>\n",
       "<style scoped>\n",
       "    .dataframe tbody tr th:only-of-type {\n",
       "        vertical-align: middle;\n",
       "    }\n",
       "\n",
       "    .dataframe tbody tr th {\n",
       "        vertical-align: top;\n",
       "    }\n",
       "\n",
       "    .dataframe thead th {\n",
       "        text-align: right;\n",
       "    }\n",
       "</style>\n",
       "<table border=\"1\" class=\"dataframe\">\n",
       "  <thead>\n",
       "    <tr style=\"text-align: right;\">\n",
       "      <th></th>\n",
       "      <th>Company</th>\n",
       "      <th>Valuation ($B)</th>\n",
       "      <th>Date Joined</th>\n",
       "      <th>Country</th>\n",
       "      <th>City</th>\n",
       "      <th>Industry</th>\n",
       "      <th>Select Inverstors</th>\n",
       "      <th>Founded Year</th>\n",
       "      <th>Total Raised</th>\n",
       "      <th>Financial Stage</th>\n",
       "      <th>Investors Count</th>\n",
       "      <th>Deal Terms</th>\n",
       "      <th>Portfolio Exits</th>\n",
       "    </tr>\n",
       "  </thead>\n",
       "  <tbody>\n",
       "    <tr>\n",
       "      <th>count</th>\n",
       "      <td>1037</td>\n",
       "      <td>1037</td>\n",
       "      <td>1037</td>\n",
       "      <td>1037</td>\n",
       "      <td>1037</td>\n",
       "      <td>1037</td>\n",
       "      <td>1037</td>\n",
       "      <td>1037</td>\n",
       "      <td>1037</td>\n",
       "      <td>1037</td>\n",
       "      <td>1037</td>\n",
       "      <td>1037</td>\n",
       "      <td>1037</td>\n",
       "    </tr>\n",
       "    <tr>\n",
       "      <th>unique</th>\n",
       "      <td>1035</td>\n",
       "      <td>200</td>\n",
       "      <td>623</td>\n",
       "      <td>46</td>\n",
       "      <td>256</td>\n",
       "      <td>33</td>\n",
       "      <td>1006</td>\n",
       "      <td>37</td>\n",
       "      <td>914</td>\n",
       "      <td>10</td>\n",
       "      <td>54</td>\n",
       "      <td>16</td>\n",
       "      <td>5</td>\n",
       "    </tr>\n",
       "    <tr>\n",
       "      <th>top</th>\n",
       "      <td>Bolt</td>\n",
       "      <td>$1</td>\n",
       "      <td>7/13/2021</td>\n",
       "      <td>United States</td>\n",
       "      <td>San Francisco</td>\n",
       "      <td>Fintech</td>\n",
       "      <td>None</td>\n",
       "      <td>2015</td>\n",
       "      <td>None</td>\n",
       "      <td>None</td>\n",
       "      <td>10</td>\n",
       "      <td>1</td>\n",
       "      <td>None</td>\n",
       "    </tr>\n",
       "    <tr>\n",
       "      <th>freq</th>\n",
       "      <td>2</td>\n",
       "      <td>244</td>\n",
       "      <td>9</td>\n",
       "      <td>536</td>\n",
       "      <td>145</td>\n",
       "      <td>205</td>\n",
       "      <td>17</td>\n",
       "      <td>144</td>\n",
       "      <td>24</td>\n",
       "      <td>988</td>\n",
       "      <td>69</td>\n",
       "      <td>280</td>\n",
       "      <td>988</td>\n",
       "    </tr>\n",
       "  </tbody>\n",
       "</table>\n",
       "</div>"
      ],
      "text/plain": [
       "       Company Valuation ($B) Date Joined        Country           City  \\\n",
       "count     1037           1037        1037           1037           1037   \n",
       "unique    1035            200         623             46            256   \n",
       "top       Bolt             $1   7/13/2021  United States  San Francisco   \n",
       "freq         2            244           9            536            145   \n",
       "\n",
       "       Industry Select Inverstors Founded Year Total Raised Financial Stage  \\\n",
       "count      1037              1037         1037         1037            1037   \n",
       "unique       33              1006           37          914              10   \n",
       "top     Fintech              None         2015         None            None   \n",
       "freq        205                17          144           24             988   \n",
       "\n",
       "       Investors Count Deal Terms Portfolio Exits  \n",
       "count             1037       1037            1037  \n",
       "unique              54         16               5  \n",
       "top                 10          1            None  \n",
       "freq                69        280             988  "
      ]
     },
     "execution_count": 29,
     "metadata": {},
     "output_type": "execute_result"
    }
   ],
   "source": [
    "print(df.shape)\n",
    "df.describe()"
   ]
  },
  {
   "cell_type": "markdown",
   "id": "c62306bc-6c1b-47c7-98f9-8cae7ad56b8e",
   "metadata": {},
   "source": [
    "# Indicators, Base measures, and Derived measures calculation definition"
   ]
  },
  {
   "cell_type": "markdown",
   "id": "8_zcpyGZmAAl",
   "metadata": {
    "id": "8_zcpyGZmAAl"
   },
   "source": [
    "## Veracity"
   ]
  },
  {
   "cell_type": "markdown",
   "id": "dq58ZDuTsCZo",
   "metadata": {
    "id": "dq58ZDuTsCZo"
   },
   "source": [
    "### Length of Big Data (Lbd)"
   ]
  },
  {
   "cell_type": "code",
   "execution_count": 30,
   "id": "R_svJb7dsJEr",
   "metadata": {
    "colab": {
     "base_uri": "https://localhost:8080/"
    },
    "id": "R_svJb7dsJEr",
    "outputId": "fb540d6f-28fd-4ece-a205-d413a7fb33a8"
   },
   "outputs": [
    {
     "name": "stdout",
     "output_type": "stream",
     "text": [
      "Lbd = 1037\n"
     ]
    }
   ],
   "source": [
    "Lbd = df.shape[0]\n",
    "print('Lbd = ' + str(Lbd))"
   ]
  },
  {
   "cell_type": "markdown",
   "id": "SRJ-SRCwmE9f",
   "metadata": {
    "id": "SRJ-SRCwmE9f"
   },
   "source": [
    "### Number of Duplicates"
   ]
  },
  {
   "cell_type": "code",
   "execution_count": 31,
   "id": "rpLwK1LvlxRV",
   "metadata": {
    "colab": {
     "base_uri": "https://localhost:8080/",
     "height": 208
    },
    "id": "rpLwK1LvlxRV",
    "outputId": "69e08049-7f08-4683-b380-1d489fa57e9b"
   },
   "outputs": [
    {
     "data": {
      "text/html": [
       "<div>\n",
       "<style scoped>\n",
       "    .dataframe tbody tr th:only-of-type {\n",
       "        vertical-align: middle;\n",
       "    }\n",
       "\n",
       "    .dataframe tbody tr th {\n",
       "        vertical-align: top;\n",
       "    }\n",
       "\n",
       "    .dataframe thead th {\n",
       "        text-align: right;\n",
       "    }\n",
       "</style>\n",
       "<table border=\"1\" class=\"dataframe\">\n",
       "  <thead>\n",
       "    <tr style=\"text-align: right;\">\n",
       "      <th></th>\n",
       "      <th>Company</th>\n",
       "      <th>Valuation ($B)</th>\n",
       "      <th>Date Joined</th>\n",
       "      <th>Country</th>\n",
       "      <th>City</th>\n",
       "      <th>Industry</th>\n",
       "      <th>Select Inverstors</th>\n",
       "      <th>Founded Year</th>\n",
       "      <th>Total Raised</th>\n",
       "      <th>Financial Stage</th>\n",
       "      <th>Investors Count</th>\n",
       "      <th>Deal Terms</th>\n",
       "      <th>Portfolio Exits</th>\n",
       "    </tr>\n",
       "  </thead>\n",
       "  <tbody>\n",
       "    <tr>\n",
       "      <th>63</th>\n",
       "      <td>Bolt</td>\n",
       "      <td>$8.4</td>\n",
       "      <td>5/29/2018</td>\n",
       "      <td>Estonia</td>\n",
       "      <td>Tallinn</td>\n",
       "      <td>Auto &amp; transportation</td>\n",
       "      <td>Didi Chuxing, Diamler, TMT Investments</td>\n",
       "      <td>2013</td>\n",
       "      <td>$1.971B</td>\n",
       "      <td>None</td>\n",
       "      <td>28</td>\n",
       "      <td>5</td>\n",
       "      <td>None</td>\n",
       "    </tr>\n",
       "    <tr>\n",
       "      <th>976</th>\n",
       "      <td>Fabric</td>\n",
       "      <td>$1</td>\n",
       "      <td>10/26/2021</td>\n",
       "      <td>United States</td>\n",
       "      <td>New York</td>\n",
       "      <td>Supply chain, logistics, &amp; delivery</td>\n",
       "      <td>Innovation Endeavors, Aleph, Temasek</td>\n",
       "      <td>1999</td>\n",
       "      <td>None</td>\n",
       "      <td>None</td>\n",
       "      <td>1</td>\n",
       "      <td>1</td>\n",
       "      <td>None</td>\n",
       "    </tr>\n",
       "  </tbody>\n",
       "</table>\n",
       "</div>"
      ],
      "text/plain": [
       "    Company Valuation ($B) Date Joined        Country      City  \\\n",
       "63     Bolt           $8.4   5/29/2018        Estonia   Tallinn   \n",
       "976  Fabric             $1  10/26/2021  United States  New York   \n",
       "\n",
       "                                Industry  \\\n",
       "63                 Auto & transportation   \n",
       "976  Supply chain, logistics, & delivery   \n",
       "\n",
       "                          Select Inverstors Founded Year Total Raised  \\\n",
       "63   Didi Chuxing, Diamler, TMT Investments         2013      $1.971B   \n",
       "976    Innovation Endeavors, Aleph, Temasek         1999         None   \n",
       "\n",
       "    Financial Stage Investors Count Deal Terms Portfolio Exits  \n",
       "63             None              28          5            None  \n",
       "976            None               1          1            None  "
      ]
     },
     "execution_count": 31,
     "metadata": {},
     "output_type": "execute_result"
    }
   ],
   "source": [
    "bool_duplicates = df.duplicated(subset='Company', keep='first')\n",
    "df[bool_duplicates]"
   ]
  },
  {
   "cell_type": "code",
   "execution_count": 32,
   "id": "IHesQpUemtEx",
   "metadata": {
    "colab": {
     "base_uri": "https://localhost:8080/",
     "height": 355
    },
    "id": "IHesQpUemtEx",
    "outputId": "3a5099f5-a1c1-418c-d683-e26980cf5a3e"
   },
   "outputs": [
    {
     "data": {
      "text/html": [
       "<div>\n",
       "<style scoped>\n",
       "    .dataframe tbody tr th:only-of-type {\n",
       "        vertical-align: middle;\n",
       "    }\n",
       "\n",
       "    .dataframe tbody tr th {\n",
       "        vertical-align: top;\n",
       "    }\n",
       "\n",
       "    .dataframe thead th {\n",
       "        text-align: right;\n",
       "    }\n",
       "</style>\n",
       "<table border=\"1\" class=\"dataframe\">\n",
       "  <thead>\n",
       "    <tr style=\"text-align: right;\">\n",
       "      <th></th>\n",
       "      <th>Company</th>\n",
       "      <th>Valuation ($B)</th>\n",
       "      <th>Date Joined</th>\n",
       "      <th>Country</th>\n",
       "      <th>City</th>\n",
       "      <th>Industry</th>\n",
       "      <th>Select Inverstors</th>\n",
       "      <th>Founded Year</th>\n",
       "      <th>Total Raised</th>\n",
       "      <th>Financial Stage</th>\n",
       "      <th>Investors Count</th>\n",
       "      <th>Deal Terms</th>\n",
       "      <th>Portfolio Exits</th>\n",
       "    </tr>\n",
       "  </thead>\n",
       "  <tbody>\n",
       "    <tr>\n",
       "      <th>37</th>\n",
       "      <td>Bolt</td>\n",
       "      <td>$11</td>\n",
       "      <td>10/8/2021</td>\n",
       "      <td>United States</td>\n",
       "      <td>San Francisco</td>\n",
       "      <td>Fintech</td>\n",
       "      <td>Activant Capital, Tribe Capital, General Atlantic</td>\n",
       "      <td>2014</td>\n",
       "      <td>$963M</td>\n",
       "      <td>None</td>\n",
       "      <td>37</td>\n",
       "      <td>3</td>\n",
       "      <td>None</td>\n",
       "    </tr>\n",
       "    <tr>\n",
       "      <th>63</th>\n",
       "      <td>Bolt</td>\n",
       "      <td>$8.4</td>\n",
       "      <td>5/29/2018</td>\n",
       "      <td>Estonia</td>\n",
       "      <td>Tallinn</td>\n",
       "      <td>Auto &amp; transportation</td>\n",
       "      <td>Didi Chuxing, Diamler, TMT Investments</td>\n",
       "      <td>2013</td>\n",
       "      <td>$1.971B</td>\n",
       "      <td>None</td>\n",
       "      <td>28</td>\n",
       "      <td>5</td>\n",
       "      <td>None</td>\n",
       "    </tr>\n",
       "  </tbody>\n",
       "</table>\n",
       "</div>"
      ],
      "text/plain": [
       "   Company Valuation ($B) Date Joined        Country           City  \\\n",
       "37    Bolt            $11   10/8/2021  United States  San Francisco   \n",
       "63    Bolt           $8.4   5/29/2018        Estonia        Tallinn   \n",
       "\n",
       "                 Industry                                  Select Inverstors  \\\n",
       "37                Fintech  Activant Capital, Tribe Capital, General Atlantic   \n",
       "63  Auto & transportation             Didi Chuxing, Diamler, TMT Investments   \n",
       "\n",
       "   Founded Year Total Raised Financial Stage Investors Count Deal Terms  \\\n",
       "37         2014        $963M            None              37          3   \n",
       "63         2013      $1.971B            None              28          5   \n",
       "\n",
       "   Portfolio Exits  \n",
       "37            None  \n",
       "63            None  "
      ]
     },
     "metadata": {},
     "output_type": "display_data"
    },
    {
     "data": {
      "text/html": [
       "<div>\n",
       "<style scoped>\n",
       "    .dataframe tbody tr th:only-of-type {\n",
       "        vertical-align: middle;\n",
       "    }\n",
       "\n",
       "    .dataframe tbody tr th {\n",
       "        vertical-align: top;\n",
       "    }\n",
       "\n",
       "    .dataframe thead th {\n",
       "        text-align: right;\n",
       "    }\n",
       "</style>\n",
       "<table border=\"1\" class=\"dataframe\">\n",
       "  <thead>\n",
       "    <tr style=\"text-align: right;\">\n",
       "      <th></th>\n",
       "      <th>Company</th>\n",
       "      <th>Valuation ($B)</th>\n",
       "      <th>Date Joined</th>\n",
       "      <th>Country</th>\n",
       "      <th>City</th>\n",
       "      <th>Industry</th>\n",
       "      <th>Select Inverstors</th>\n",
       "      <th>Founded Year</th>\n",
       "      <th>Total Raised</th>\n",
       "      <th>Financial Stage</th>\n",
       "      <th>Investors Count</th>\n",
       "      <th>Deal Terms</th>\n",
       "      <th>Portfolio Exits</th>\n",
       "    </tr>\n",
       "  </thead>\n",
       "  <tbody>\n",
       "    <tr>\n",
       "      <th>578</th>\n",
       "      <td>Fabric</td>\n",
       "      <td>$1.5</td>\n",
       "      <td>2/24/2022</td>\n",
       "      <td>United States</td>\n",
       "      <td>Bellevue</td>\n",
       "      <td>E-commerce &amp; direct-to-consumer</td>\n",
       "      <td>Redpoint Ventures, Norwest Venture Partners, S...</td>\n",
       "      <td>2017</td>\n",
       "      <td>$292.58M</td>\n",
       "      <td>None</td>\n",
       "      <td>11</td>\n",
       "      <td>2</td>\n",
       "      <td>None</td>\n",
       "    </tr>\n",
       "    <tr>\n",
       "      <th>976</th>\n",
       "      <td>Fabric</td>\n",
       "      <td>$1</td>\n",
       "      <td>10/26/2021</td>\n",
       "      <td>United States</td>\n",
       "      <td>New York</td>\n",
       "      <td>Supply chain, logistics, &amp; delivery</td>\n",
       "      <td>Innovation Endeavors, Aleph, Temasek</td>\n",
       "      <td>1999</td>\n",
       "      <td>None</td>\n",
       "      <td>None</td>\n",
       "      <td>1</td>\n",
       "      <td>1</td>\n",
       "      <td>None</td>\n",
       "    </tr>\n",
       "  </tbody>\n",
       "</table>\n",
       "</div>"
      ],
      "text/plain": [
       "    Company Valuation ($B) Date Joined        Country      City  \\\n",
       "578  Fabric           $1.5   2/24/2022  United States  Bellevue   \n",
       "976  Fabric             $1  10/26/2021  United States  New York   \n",
       "\n",
       "                                Industry  \\\n",
       "578      E-commerce & direct-to-consumer   \n",
       "976  Supply chain, logistics, & delivery   \n",
       "\n",
       "                                     Select Inverstors Founded Year  \\\n",
       "578  Redpoint Ventures, Norwest Venture Partners, S...         2017   \n",
       "976               Innovation Endeavors, Aleph, Temasek         1999   \n",
       "\n",
       "    Total Raised Financial Stage Investors Count Deal Terms Portfolio Exits  \n",
       "578     $292.58M            None              11          2            None  \n",
       "976         None            None               1          1            None  "
      ]
     },
     "metadata": {},
     "output_type": "display_data"
    }
   ],
   "source": [
    "display( df[df['Company'] == 'Bolt'] )\n",
    "display( df[df['Company'] == 'Fabric'] )"
   ]
  },
  {
   "cell_type": "code",
   "execution_count": 33,
   "id": "mgISXVJ7nuVa",
   "metadata": {
    "colab": {
     "base_uri": "https://localhost:8080/"
    },
    "id": "mgISXVJ7nuVa",
    "outputId": "5c4c1c16-750c-4e7a-e095-211ca0369a77"
   },
   "outputs": [
    {
     "name": "stdout",
     "output_type": "stream",
     "text": [
      "The number of duplicates = 0\n"
     ]
    }
   ],
   "source": [
    "def num_duplicates(df):\n",
    "    bool_duplicates = df.duplicated(keep='first')\n",
    "    num_dup = df[bool_duplicates].shape[0]\n",
    "    return num_dup\n",
    "\n",
    "print('The number of duplicates = ' + str(num_duplicates(df)))"
   ]
  },
  {
   "cell_type": "markdown",
   "id": "QxUJMhvksmHm",
   "metadata": {
    "id": "QxUJMhvksmHm"
   },
   "source": [
    "### Accuracy"
   ]
  },
  {
   "cell_type": "code",
   "execution_count": 34,
   "id": "d6b613aa",
   "metadata": {},
   "outputs": [],
   "source": [
    "def hacc(Lbd, num_dup): \n",
    "    # Hacc(MDS) = log2(Lbd) – (1 / Lbd) x ∑j={1…k}pj log2 (pj)\n",
    "    Hacc = math.log(Lbd, 2) - ((1 / Lbd) * num_dup * math.log(num_dup, 2))\n",
    "    return Hacc"
   ]
  },
  {
   "cell_type": "code",
   "execution_count": 35,
   "id": "0f0fd02d",
   "metadata": {},
   "outputs": [],
   "source": [
    "def hmax(Lbd):\n",
    "    return math.log(Lbd, 2)"
   ]
  },
  {
   "cell_type": "code",
   "execution_count": 36,
   "id": "KuYiiPL6soS5",
   "metadata": {
    "colab": {
     "base_uri": "https://localhost:8080/"
    },
    "id": "KuYiiPL6soS5",
    "outputId": "2f4ab474-3265-463a-fd73-129e5778265a"
   },
   "outputs": [
    {
     "data": {
      "text/plain": [
       "1.0"
      ]
     },
     "execution_count": 36,
     "metadata": {},
     "output_type": "execute_result"
    }
   ],
   "source": [
    "def accuracy(Lbd, num_dup):\n",
    "    Hmax = hmax(Lbd)\n",
    "    if num_dup == 0:\n",
    "        Hacc = Hmax\n",
    "    else:\n",
    "        Hacc = hacc(Lbd,num_dup)\n",
    "    accuracy = Hacc / Hmax\n",
    "    return accuracy\n",
    "\n",
    "accuracy(Lbd, num_duplicates(df))"
   ]
  },
  {
   "cell_type": "markdown",
   "id": "a2c7570f-6997-4749-859c-579338a52621",
   "metadata": {},
   "source": [
    "### Currentness"
   ]
  },
  {
   "cell_type": "code",
   "execution_count": 37,
   "id": "4a2b9f29-0d20-4fbe-b1c3-b963953b0ff4",
   "metadata": {},
   "outputs": [
    {
     "data": {
      "text/plain": [
       "<AxesSubplot:>"
      ]
     },
     "execution_count": 37,
     "metadata": {},
     "output_type": "execute_result"
    },
    {
     "data": {
      "image/png": "[encoded data removed]",
      "text/plain": [
       "<Figure size 1275x850 with 1 Axes>"
      ]
     },
     "metadata": {},
     "output_type": "display_data"
    }
   ],
   "source": [
    "df[\"Date Joined\"] = pd.to_datetime(df[\"Date Joined\"]).astype('int64') // 10**9\n",
    "df[df[\"Founded Year\"] == \"None\"] = None\n",
    "df[\"Founded Year\"] = pd.to_datetime(df[\"Founded Year\"]).astype('int64') // 10**9\n",
    "\n",
    "df.boxplot(column =['Date Joined'])"
   ]
  },
  {
   "cell_type": "code",
   "execution_count": 38,
   "id": "1a6489e7-67de-4dd7-bcd1-6ba27f87b943",
   "metadata": {},
   "outputs": [
    {
     "data": {
      "text/plain": [
       "0.9585342333654774"
      ]
     },
     "execution_count": 38,
     "metadata": {},
     "output_type": "execute_result"
    }
   ],
   "source": [
    "def currentness(df, Lbd):\n",
    "    df_copy = df.copy()\n",
    "    \n",
    "    df_copy['Date Joined'] = pd.to_datetime(df_copy['Date Joined']).astype('int64') // 10**9\n",
    "    quantiles = df_copy.quantile([0.25, 0.5, 0.75])\n",
    "    lower_quartile = quantiles.iloc[0]['Date Joined']\n",
    "    upper_quartile = quantiles.iloc[2]['Date Joined']\n",
    "    acceptable_age = df_copy.shape[0] - (df_copy[df_copy['Date Joined'] < lower_quartile].shape[0] + df_copy[df_copy['Date Joined'] > upper_quartile].shape[0])\n",
    "    currentness = acceptable_age / Lbd\n",
    "    return currentness\n",
    "\n",
    "currentness(df, Lbd)"
   ]
  },
  {
   "cell_type": "markdown",
   "id": "88b077f2-600e-4814-bd38-789ff5651663",
   "metadata": {},
   "source": [
    "### Completeness"
   ]
  },
  {
   "cell_type": "code",
   "execution_count": 39,
   "id": "6a334bb1-8536-46da-8c25-345fb2047e9d",
   "metadata": {},
   "outputs": [
    {
     "data": {
      "text/plain": [
       "0.044358727097396335"
      ]
     },
     "execution_count": 39,
     "metadata": {},
     "output_type": "execute_result"
    }
   ],
   "source": [
    "def completeness(df): \n",
    "    df_n = df.replace('None', np.nan)\n",
    "    df_n = df_n[~df_n.isnull().any(1)]\n",
    "    return len(df_n)/len(df)\n",
    "\n",
    "completeness(df)"
   ]
  },
  {
   "cell_type": "markdown",
   "id": "e505bd08-b8bd-45d5-b285-3b9f8e7e2069",
   "metadata": {},
   "source": [
    "### Availability\n",
    "Because the system is not deployed, we cannot know the number of successful requests and the total number of requests, so we will set availability to 0."
   ]
  },
  {
   "cell_type": "code",
   "execution_count": 40,
   "id": "c7c84eee-a8a9-44a5-b534-93e111df2b0b",
   "metadata": {},
   "outputs": [],
   "source": [
    "availability = 0"
   ]
  },
  {
   "cell_type": "markdown",
   "id": "7dd53fff-4ddb-4189-b056-c1176c018d7e",
   "metadata": {},
   "source": [
    "### Veracity"
   ]
  },
  {
   "cell_type": "code",
   "execution_count": 41,
   "id": "dbd58b00-a4ad-4dc2-9dc8-fcd72ed84cc2",
   "metadata": {},
   "outputs": [
    {
     "data": {
      "text/plain": [
       "0.49527324282067126"
      ]
     },
     "execution_count": 41,
     "metadata": {},
     "output_type": "execute_result"
    }
   ],
   "source": [
    "def veracity(df):\n",
    "    w_acc = 1/4\n",
    "    w_comp = 1/4\n",
    "    w_cur = 1/4\n",
    "    w_avail = 1/4\n",
    "\n",
    "    veracity = accuracy(Lbd, num_duplicates(df)) * w_acc + completeness(df) * w_comp + currentness(df, Lbd) * w_cur + availability * w_avail \n",
    "    return veracity\n",
    "\n",
    "veracity(df)"
   ]
  },
  {
   "cell_type": "markdown",
   "id": "297a2dee-2dce-4814-98c0-6ca731924c07",
   "metadata": {},
   "source": [
    "## Validity"
   ]
  },
  {
   "cell_type": "markdown",
   "id": "9304128a-c3b7-4914-b15c-7bbc6dadc225",
   "metadata": {},
   "source": [
    "### Number of Datasets (NDS)"
   ]
  },
  {
   "cell_type": "code",
   "execution_count": 42,
   "id": "9fc3eb26-c3dc-4009-889b-e26193197cb8",
   "metadata": {},
   "outputs": [],
   "source": [
    "Nds = 1"
   ]
  },
  {
   "cell_type": "markdown",
   "id": "cc76a156-a617-49ef-80d3-44822630ca1f",
   "metadata": {},
   "source": [
    "### Credibility\n",
    "\n",
    "Assume that the source for each of the datasets are credible"
   ]
  },
  {
   "cell_type": "code",
   "execution_count": 43,
   "id": "567d049b-349b-4f90-ae5a-c42b128ecebe",
   "metadata": {},
   "outputs": [
    {
     "data": {
      "text/plain": [
       "1.0"
      ]
     },
     "execution_count": 43,
     "metadata": {},
     "output_type": "execute_result"
    }
   ],
   "source": [
    "def credibility():\n",
    "    Nds_cr = Nds\n",
    "    return Nds_cr / Nds\n",
    "credibility()"
   ]
  },
  {
   "cell_type": "markdown",
   "id": "0f6f975b-1753-48f0-adce-ac0a909c0355",
   "metadata": {},
   "source": [
    "### Compliance\n",
    "Assume that we are not compliant with countries that have their 'Industry' as 'Other'"
   ]
  },
  {
   "cell_type": "code",
   "execution_count": 44,
   "id": "6dde6ee3-a474-4825-a007-e15815ac52a6",
   "metadata": {},
   "outputs": [
    {
     "data": {
      "text/plain": [
       "54.0"
      ]
     },
     "execution_count": 44,
     "metadata": {},
     "output_type": "execute_result"
    }
   ],
   "source": [
    "def compliance(df, Nds):\n",
    "    Nrec_comp = df[df[\"Industry\"] == \"Other\"].shape[0]\n",
    "    return Nrec_comp / Nds\n",
    "\n",
    "compliance(df, Nds)"
   ]
  },
  {
   "cell_type": "markdown",
   "id": "ffe20fcb-1de0-48ce-8122-95c7ed1bd935",
   "metadata": {},
   "source": [
    "### Validity"
   ]
  },
  {
   "cell_type": "code",
   "execution_count": 45,
   "id": "1b0f7ca9-36f8-4de3-89e3-8e9b8c48bea4",
   "metadata": {},
   "outputs": [
    {
     "data": {
      "text/plain": [
       "27.5"
      ]
     },
     "execution_count": 45,
     "metadata": {},
     "output_type": "execute_result"
    }
   ],
   "source": [
    "def validity(df, Nds=1):\n",
    "    w_cred = 1/2\n",
    "    w_comp = 1/2\n",
    "    return credibility() * w_cred + compliance(df, Nds) * w_comp\n",
    "\n",
    "validity(df, Nds)"
   ]
  },
  {
   "cell_type": "markdown",
   "id": "4f106c99",
   "metadata": {},
   "source": [
    "## Vincularity"
   ]
  },
  {
   "cell_type": "markdown",
   "id": "8231aa26",
   "metadata": {},
   "source": [
    "### Traceability"
   ]
  },
  {
   "cell_type": "code",
   "execution_count": 46,
   "id": "37d7a0f3",
   "metadata": {},
   "outputs": [],
   "source": [
    "def traceability(df, Nds=1):\n",
    "    Ldst = len(df)\n",
    "    df2 = df.loc[(df['Industry'] == 'Other') \n",
    "                 | (df['Select Inverstors'].isin(['None','']))\n",
    "                 | (df['Founded Year'].isin(['None',''])) \n",
    "                 | (df['Financial Stage'].isin(['None','']) \n",
    "                    if 'Financial Stage' in df.columns else False)]\n",
    "\n",
    "    Rec_trace = len(df) - len(df2)\n",
    "    return Rec_trace/Ldst"
   ]
  },
  {
   "cell_type": "markdown",
   "id": "55a02ac8",
   "metadata": {},
   "source": [
    "### Vincularity"
   ]
  },
  {
   "cell_type": "code",
   "execution_count": 47,
   "id": "37d3b587",
   "metadata": {},
   "outputs": [],
   "source": [
    "def vincularity(MDS , Nds):\n",
    "    traceabilities = 0\n",
    "    for i in MDS: \n",
    "        traceabilities += traceability(i, Nds)\n",
    "    return traceabilities/Nds"
   ]
  },
  {
   "cell_type": "code",
   "execution_count": 48,
   "id": "ec69a827",
   "metadata": {},
   "outputs": [
    {
     "data": {
      "text/plain": [
       "0.08389585342333655"
      ]
     },
     "execution_count": 48,
     "metadata": {},
     "output_type": "execute_result"
    }
   ],
   "source": [
    "MDS = [df]\n",
    "vincularity(MDS, Nds)"
   ]
  },
  {
   "cell_type": "markdown",
   "id": "0c3eebde-3b28-4a89-b516-35176682dab8",
   "metadata": {},
   "source": [
    "# Indicators calculation"
   ]
  },
  {
   "cell_type": "code",
   "execution_count": 49,
   "id": "302f3422-9b78-4c3f-90a3-25ec7ceb234e",
   "metadata": {},
   "outputs": [],
   "source": [
    "def get_indicators(df):\n",
    "    Mver = veracity(df)\n",
    "    Mval = validity(df, Nds)\n",
    "    Mvin = vincularity([df], Nds)\n",
    "    print(\"Mver = \" + str(Mver) + \", Mval = \" + str(Mval) + \", Mvin = \" + str(Mvin))\n",
    "    return Mver, Mval, Mvin"
   ]
  },
  {
   "cell_type": "markdown",
   "id": "1ca39e45-a798-4697-bd4e-5786066c6ff6",
   "metadata": {},
   "source": [
    "# Data Extraction"
   ]
  },
  {
   "cell_type": "code",
   "execution_count": 50,
   "id": "28b35e47-97e4-4b98-be6e-67b60edaf0d7",
   "metadata": {},
   "outputs": [],
   "source": [
    "def extract_data(df):\n",
    "    df1 = df.iloc[0 : int(len(df)/3), :]\n",
    "    df2 = df.iloc[: int(2*len(df)/3), :] # data from int(len(df)/3) : int(2*len(df)/3) has been added\n",
    "    df3 = df.iloc[:, :]  # data from int(2*len(df)/3) to end has been added\n",
    "    return df1, df2, df3"
   ]
  },
  {
   "cell_type": "code",
   "execution_count": 51,
   "id": "3ec4ee41-a777-4a03-b12d-01eb0c781e96",
   "metadata": {},
   "outputs": [
    {
     "name": "stdout",
     "output_type": "stream",
     "text": [
      "Mver = 0.3536343807226837, Mval = 7.5, Mvin = 0.11884057971014493\n",
      "Mver = 0.42127264881249105, Mval = 18.0, Mvin = 0.08827785817655572\n",
      "Mver = 0.49527324282067126, Mval = 27.5, Mvin = 0.08389585342333655\n"
     ]
    },
    {
     "data": {
      "text/plain": [
       "(0.49527324282067126, 27.5, 0.08389585342333655)"
      ]
     },
     "execution_count": 51,
     "metadata": {},
     "output_type": "execute_result"
    }
   ],
   "source": [
    "(df1, df2, df3) = extract_data(df)\n",
    "get_indicators(df1)\n",
    "get_indicators(df2)\n",
    "get_indicators(df3)"
   ]
  },
  {
   "cell_type": "markdown",
   "id": "2a2bf380-977e-4746-809c-540974ece859",
   "metadata": {},
   "source": [
    "# Data preprocessing"
   ]
  },
  {
   "cell_type": "code",
   "execution_count": 52,
   "id": "01000074-d6d1-4430-b361-20e82149c8b4",
   "metadata": {},
   "outputs": [],
   "source": [
    "def preprocess(df):\n",
    "    df_pre = df.copy()\n",
    "    \n",
    "    # replace all \"None\" with None\n",
    "    df_pre = df_pre.replace(to_replace = \"None\", value =None)\n",
    "    \n",
    "    # convert date strings to pandas date\n",
    "    df_pre[\"Date Joined\"] = pd.to_datetime(df_pre[\"Date Joined\"])\n",
    "    df_pre[\"Founded Year\"] = pd.to_datetime(df_pre[\"Founded Year\"])\n",
    "    \n",
    "    # Convert valuation from string to float\n",
    "    df_pre[\"Valuation ($B)\"] = df_pre[\"Valuation ($B)\"].replace({\"\\$\": \"\"}, regex=True)\n",
    "    df_pre[\"Valuation ($B)\"] = df_pre[\"Valuation ($B)\"].astype(float)\n",
    "    \n",
    "    \n",
    "    unite = df_pre[\"Total Raised\"].str[-1]\n",
    "\n",
    "    df_pre[\"Total Raised\"] = df_pre[\"Total Raised\"].replace({\"\\$\": \"\", \"B$\": \"\", \"M$\": \"\", \"None\": np.nan, \"K$\": \"\"}, regex=True).astype(float)\n",
    "\n",
    "    for i, row in df_pre.iterrows():\n",
    "        if unite[i] == \"B\":\n",
    "            df_pre.loc[i, \"Total Raised\"] = row[\"Total Raised\"] * int(1e9)\n",
    "        elif unite[i] == \"M\":\n",
    "            df_pre.loc[i, \"Total Raised\"] = row[\"Total Raised\"] * int(1e6)\n",
    "        elif unite[i] == \"K\":\n",
    "            df_pre.loc[i, \"Total Raised\"] = row[\"Total Raised\"] * int(1e3)\n",
    "\n",
    "    # remove columns with too manu null values \"Portfolio Exits\" and \"Financial Stage\"\n",
    "    df_pre = df_pre.drop([\"Financial Stage\",\"Portfolio Exits\"], axis=1)\n",
    "    return df_pre"
   ]
  },
  {
   "cell_type": "code",
   "execution_count": 53,
   "id": "5c4667ef-9f85-40a4-be99-f7126fe97853",
   "metadata": {},
   "outputs": [
    {
     "name": "stdout",
     "output_type": "stream",
     "text": [
      "Mver = 0.564503945940075, Mval = 7.5, Mvin = 0.9594202898550724\n"
     ]
    },
    {
     "data": {
      "text/plain": [
       "(0.564503945940075, 7.5, 0.9594202898550724)"
      ]
     },
     "execution_count": 53,
     "metadata": {},
     "output_type": "execute_result"
    }
   ],
   "source": [
    "df1_pre = preprocess(df1)\n",
    "get_indicators(df1_pre)"
   ]
  },
  {
   "cell_type": "code",
   "execution_count": 54,
   "id": "520496cd-5ab0-4d96-a446-c4e2c13d4df8",
   "metadata": {},
   "outputs": [],
   "source": [
    "def process(df):\n",
    "    df_pro = df.copy()\n",
    "    \n",
    "    df_pro[\"Country\"] = df_pro[\"Country\"].astype('category')\n",
    "    df_pro[\"City\"] = df_pro[\"City\"].astype('category')\n",
    "    df_pro[\"Industry\"] = df_pro[\"Industry\"].astype('category')\n",
    "    \n",
    "    # normalize columns\n",
    "    unnormalized_cols = [\"Valuation ($B)\", \"Total Raised\"]\n",
    "    df_pro[unnormalized_cols] = df_pro[unnormalized_cols].apply(lambda x: (x - x.min()) / (x.max() - x.min()))\n",
    "    \n",
    "    return df_pro"
   ]
  },
  {
   "cell_type": "markdown",
   "id": "8dd1f1de",
   "metadata": {},
   "source": [
    "### Results of derive measures "
   ]
  },
  {
   "cell_type": "code",
   "execution_count": 55,
   "id": "9583c06e",
   "metadata": {},
   "outputs": [],
   "source": [
    "def extract_drive_measures(all_dfs): # {\"T1\": [df1, df1_pre, df1_pro], . . .\n",
    "    columns = ['Extraction' , 'Preprocessing', 'Processing']\n",
    "\n",
    "    for k in all_dfs: # keys T1,T2,T3\n",
    "        df_res = pd.DataFrame(columns = columns,\n",
    "                              index=['Compliance', \n",
    "                                     'Credibility', \n",
    "                                     'Traceability', \n",
    "                                     'Hacc', \n",
    "                                     'Hmax', \n",
    "                                     'Currentness', \n",
    "                                     'Completeness', \n",
    "                                     'Availability'])\n",
    "        \n",
    "        for i, s in enumerate(all_dfs[k]): \n",
    "            data = np.array(\n",
    "                [compliance(s, Nds),\n",
    "                 credibility(),\n",
    "                 traceability(s),\n",
    "                 hacc(s.shape[0],num_duplicates(s)), \n",
    "                 hmax(s.shape[0]),\n",
    "                 accuracy(s.shape[0],num_duplicates(s)), \n",
    "                 currentness(s,s.shape[0]), \n",
    "                 1])\n",
    "            df_res[columns[i]] = data.tolist()\n",
    "        print(f\"time frame: {k}\")\n",
    "        display(df_res)\n"
   ]
  },
  {
   "cell_type": "markdown",
   "id": "fd9f6f93-edc7-436e-857f-6744bede3709",
   "metadata": {},
   "source": [
    "# Data Pipeline (Data Extraction, Data Preprocessing, Data Processing)"
   ]
  },
  {
   "cell_type": "code",
   "execution_count": 60,
   "id": "8fbbce76-5752-4a2d-9a55-1dd3ca9e45cf",
   "metadata": {},
   "outputs": [],
   "source": [
    "def pipeline(df, Nds = 1):\n",
    "    (df1, df2, df3) = extract_data(df)\n",
    "    \n",
    "    # Time frame 1\n",
    "    (Mver1_ext, Mval1_ext, Mvin1_ext) = get_indicators(df1)\n",
    "    \n",
    "    df1_pre = preprocess(df1)\n",
    "    (Mver1_pre, Mval1_pre, Mvin1_pre) = get_indicators(df1_pre)\n",
    "    \n",
    "    df1_pro = process(df1_pre)\n",
    "    (Mver1_pro, Mval1_pro, Mvin1_pro) = get_indicators(df1_pro)\n",
    "    \n",
    "    # Time frame 2\n",
    "    (Mver2_ext, Mval2_ext, Mvin2_ext) = get_indicators(df2)\n",
    "    \n",
    "    df2_pre = preprocess(df2)\n",
    "    (Mver2_pre, Mval2_pre,  Mvin2_pre) = get_indicators(df2_pre)\n",
    "    \n",
    "    df2_pro = process(df2_pre)\n",
    "    (Mver2_pro, Mval2_pro, Mvin2_pro) = get_indicators(df2_pro)\n",
    "    \n",
    "    # Time frame 3\n",
    "    (Mver3_ext, Mval3_ext, Mvin3_ext) = get_indicators(df3)\n",
    "    \n",
    "    df3_pre = preprocess(df3)\n",
    "    (Mver3_pre, Mval3_pre, Mvin3_pre) = get_indicators(df3_pre)\n",
    "    \n",
    "    df3_pro = process(df3_pre)\n",
    "    (Mver3_pro, Mval3_pro, Mvin3_pro) = get_indicators(df3_pro)\n",
    "    \n",
    "    \n",
    "    \n",
    "    all_dfs = {\"T1\": [df1, df1_pre, df1_pro],\n",
    "               \"T2\": [df2, df2_pre, df2_pro], \n",
    "               \"T3\": [df3, df3_pre, df3_pro]}\n",
    "\n",
    "    # extract tables for each time frame\n",
    "    extract_drive_measures(all_dfs)\n",
    "    \n",
    "    # plot the indicators\n",
    "    data_ver = [[ Mver1_ext, Mver1_pre, Mver1_pro],\n",
    "                [ Mver2_ext, Mver2_pre, Mver2_pro],\n",
    "                [ Mver3_ext, Mver3_pre, Mver3_pro]]\n",
    "    \n",
    "    data_val = [[ Mval1_ext, Mval1_pre, Mval1_pro],\n",
    "                [ Mval2_ext, Mval2_pre, Mval2_pro],\n",
    "                [ Mval3_ext, Mval3_pre, Mval3_pro]]\n",
    "    \n",
    "    \n",
    "    data_vin = [[ Mvin1_ext, Mvin1_pre, Mvin1_pro],\n",
    "                [ Mvin2_ext, Mvin2_pre, Mvin2_pro],\n",
    "                [ Mvin3_ext, Mvin3_pre, Mvin3_pro]]\n",
    "  \n",
    "    \n",
    "    # tables of result\n",
    "    df_ver = pd.DataFrame(data_ver, columns = ['Extraction' , 'Preprocessing', 'Processing'],\n",
    "                          index=['T1', 'T2', 'T3'])\n",
    "    df_val = pd.DataFrame(data_val, columns = ['Extraction' , 'Preprocessing', 'Processing'],\n",
    "                          index=['T1', 'T2', 'T3'])\n",
    "    df_vin = pd.DataFrame(data_vin, columns = ['Extraction' , 'Preprocessing', 'Processing'],\n",
    "                          index=['T1', 'T2', 'T3'])\n",
    "    \n",
    "    plotIndicator(df_ver, 'Veracity')\n",
    "    plotIndicator(df_val, 'Validity')\n",
    "    plotIndicator(df_vin, 'Vincularity')\n",
    "    \n",
    "    df_ver['Average'] = df_ver.mean(axis=1)\n",
    "    df_val['Average'] = df_val.mean(axis=1)\n",
    "    df_vin['Average'] = df_vin.mean(axis=1)\n",
    "    \n",
    "    print('Veracity:')\n",
    "    display(df_ver)\n",
    "    print('Validity:')\n",
    "    display(df_val)\n",
    "    print('Vincularity:')\n",
    "    display(df_vin)"
   ]
  },
  {
   "cell_type": "code",
   "execution_count": 61,
   "id": "5edfb6d0-8db7-46e7-b583-5d1a7eefee6d",
   "metadata": {},
   "outputs": [],
   "source": [
    "def plotIndicator(data, title):\n",
    "    data.plot(kind=\"bar\")\n",
    "    plt.title(title)\n",
    "    plt.xlabel(\"Time frame\")\n"
   ]
  },
  {
   "cell_type": "code",
   "execution_count": 62,
   "id": "09e46c37-241d-4c8f-8ac4-a54a216b0496",
   "metadata": {},
   "outputs": [
    {
     "name": "stdout",
     "output_type": "stream",
     "text": [
      "Mver = 0.3536343807226837, Mval = 7.5, Mvin = 0.11884057971014493\n",
      "Mver = 0.564503945940075, Mval = 7.5, Mvin = 0.9594202898550724\n",
      "Mver = 0.564503945940075, Mval = 7.5, Mvin = 0.9594202898550724\n",
      "Mver = 0.42127264881249105, Mval = 18.0, Mvin = 0.08827785817655572\n",
      "Mver = 0.6383493492466444, Mval = 18.0, Mvin = 0.9493487698986975\n",
      "Mver = 0.6383493492466444, Mval = 18.0, Mvin = 0.9493487698986975\n",
      "Mver = 0.49527324282067126, Mval = 27.5, Mvin = 0.08389585342333655\n",
      "Mver = 0.7122452775361968, Mval = 27.5, Mvin = 0.9479267116682739\n",
      "Mver = 0.7122452775361968, Mval = 27.5, Mvin = 0.9479267116682739\n",
      "time frame: T1\n"
     ]
    },
    {
     "data": {
      "text/html": [
       "<div>\n",
       "<style scoped>\n",
       "    .dataframe tbody tr th:only-of-type {\n",
       "        vertical-align: middle;\n",
       "    }\n",
       "\n",
       "    .dataframe tbody tr th {\n",
       "        vertical-align: top;\n",
       "    }\n",
       "\n",
       "    .dataframe thead th {\n",
       "        text-align: right;\n",
       "    }\n",
       "</style>\n",
       "<table border=\"1\" class=\"dataframe\">\n",
       "  <thead>\n",
       "    <tr style=\"text-align: right;\">\n",
       "      <th></th>\n",
       "      <th>Extraction</th>\n",
       "      <th>Preprocessing</th>\n",
       "      <th>Processing</th>\n",
       "    </tr>\n",
       "  </thead>\n",
       "  <tbody>\n",
       "    <tr>\n",
       "      <th>Compliance</th>\n",
       "      <td>14.000000</td>\n",
       "      <td>14.000000</td>\n",
       "      <td>14.000000</td>\n",
       "    </tr>\n",
       "    <tr>\n",
       "      <th>Credibility</th>\n",
       "      <td>1.000000</td>\n",
       "      <td>1.000000</td>\n",
       "      <td>1.000000</td>\n",
       "    </tr>\n",
       "    <tr>\n",
       "      <th>Traceability</th>\n",
       "      <td>0.118841</td>\n",
       "      <td>0.959420</td>\n",
       "      <td>0.959420</td>\n",
       "    </tr>\n",
       "    <tr>\n",
       "      <th>Hacc</th>\n",
       "      <td>8.334165</td>\n",
       "      <td>8.334165</td>\n",
       "      <td>8.334165</td>\n",
       "    </tr>\n",
       "    <tr>\n",
       "      <th>Hmax</th>\n",
       "      <td>8.430453</td>\n",
       "      <td>8.430453</td>\n",
       "      <td>8.430453</td>\n",
       "    </tr>\n",
       "    <tr>\n",
       "      <th>Currentness</th>\n",
       "      <td>0.988579</td>\n",
       "      <td>0.988579</td>\n",
       "      <td>0.988579</td>\n",
       "    </tr>\n",
       "    <tr>\n",
       "      <th>Completeness</th>\n",
       "      <td>0.968116</td>\n",
       "      <td>0.968116</td>\n",
       "      <td>0.968116</td>\n",
       "    </tr>\n",
       "    <tr>\n",
       "      <th>Availability</th>\n",
       "      <td>1.000000</td>\n",
       "      <td>1.000000</td>\n",
       "      <td>1.000000</td>\n",
       "    </tr>\n",
       "  </tbody>\n",
       "</table>\n",
       "</div>"
      ],
      "text/plain": [
       "              Extraction  Preprocessing  Processing\n",
       "Compliance     14.000000      14.000000   14.000000\n",
       "Credibility     1.000000       1.000000    1.000000\n",
       "Traceability    0.118841       0.959420    0.959420\n",
       "Hacc            8.334165       8.334165    8.334165\n",
       "Hmax            8.430453       8.430453    8.430453\n",
       "Currentness     0.988579       0.988579    0.988579\n",
       "Completeness    0.968116       0.968116    0.968116\n",
       "Availability    1.000000       1.000000    1.000000"
      ]
     },
     "metadata": {},
     "output_type": "display_data"
    },
    {
     "name": "stdout",
     "output_type": "stream",
     "text": [
      "time frame: T2\n"
     ]
    },
    {
     "data": {
      "text/html": [
       "<div>\n",
       "<style scoped>\n",
       "    .dataframe tbody tr th:only-of-type {\n",
       "        vertical-align: middle;\n",
       "    }\n",
       "\n",
       "    .dataframe tbody tr th {\n",
       "        vertical-align: top;\n",
       "    }\n",
       "\n",
       "    .dataframe thead th {\n",
       "        text-align: right;\n",
       "    }\n",
       "</style>\n",
       "<table border=\"1\" class=\"dataframe\">\n",
       "  <thead>\n",
       "    <tr style=\"text-align: right;\">\n",
       "      <th></th>\n",
       "      <th>Extraction</th>\n",
       "      <th>Preprocessing</th>\n",
       "      <th>Processing</th>\n",
       "    </tr>\n",
       "  </thead>\n",
       "  <tbody>\n",
       "    <tr>\n",
       "      <th>Compliance</th>\n",
       "      <td>35.000000</td>\n",
       "      <td>35.000000</td>\n",
       "      <td>35.000000</td>\n",
       "    </tr>\n",
       "    <tr>\n",
       "      <th>Credibility</th>\n",
       "      <td>1.000000</td>\n",
       "      <td>1.000000</td>\n",
       "      <td>1.000000</td>\n",
       "    </tr>\n",
       "    <tr>\n",
       "      <th>Traceability</th>\n",
       "      <td>0.088278</td>\n",
       "      <td>0.949349</td>\n",
       "      <td>0.949349</td>\n",
       "    </tr>\n",
       "    <tr>\n",
       "      <th>Hacc</th>\n",
       "      <td>9.264530</td>\n",
       "      <td>9.264530</td>\n",
       "      <td>9.264530</td>\n",
       "    </tr>\n",
       "    <tr>\n",
       "      <th>Hmax</th>\n",
       "      <td>9.432542</td>\n",
       "      <td>9.432542</td>\n",
       "      <td>9.432542</td>\n",
       "    </tr>\n",
       "    <tr>\n",
       "      <th>Currentness</th>\n",
       "      <td>0.982188</td>\n",
       "      <td>0.982188</td>\n",
       "      <td>0.982188</td>\n",
       "    </tr>\n",
       "    <tr>\n",
       "      <th>Completeness</th>\n",
       "      <td>0.962373</td>\n",
       "      <td>0.962373</td>\n",
       "      <td>0.962373</td>\n",
       "    </tr>\n",
       "    <tr>\n",
       "      <th>Availability</th>\n",
       "      <td>1.000000</td>\n",
       "      <td>1.000000</td>\n",
       "      <td>1.000000</td>\n",
       "    </tr>\n",
       "  </tbody>\n",
       "</table>\n",
       "</div>"
      ],
      "text/plain": [
       "              Extraction  Preprocessing  Processing\n",
       "Compliance     35.000000      35.000000   35.000000\n",
       "Credibility     1.000000       1.000000    1.000000\n",
       "Traceability    0.088278       0.949349    0.949349\n",
       "Hacc            9.264530       9.264530    9.264530\n",
       "Hmax            9.432542       9.432542    9.432542\n",
       "Currentness     0.982188       0.982188    0.982188\n",
       "Completeness    0.962373       0.962373    0.962373\n",
       "Availability    1.000000       1.000000    1.000000"
      ]
     },
     "metadata": {},
     "output_type": "display_data"
    },
    {
     "name": "stdout",
     "output_type": "stream",
     "text": [
      "time frame: T3\n"
     ]
    },
    {
     "data": {
      "text/html": [
       "<div>\n",
       "<style scoped>\n",
       "    .dataframe tbody tr th:only-of-type {\n",
       "        vertical-align: middle;\n",
       "    }\n",
       "\n",
       "    .dataframe tbody tr th {\n",
       "        vertical-align: top;\n",
       "    }\n",
       "\n",
       "    .dataframe thead th {\n",
       "        text-align: right;\n",
       "    }\n",
       "</style>\n",
       "<table border=\"1\" class=\"dataframe\">\n",
       "  <thead>\n",
       "    <tr style=\"text-align: right;\">\n",
       "      <th></th>\n",
       "      <th>Extraction</th>\n",
       "      <th>Preprocessing</th>\n",
       "      <th>Processing</th>\n",
       "    </tr>\n",
       "  </thead>\n",
       "  <tbody>\n",
       "    <tr>\n",
       "      <th>Compliance</th>\n",
       "      <td>54.000000</td>\n",
       "      <td>54.000000</td>\n",
       "      <td>54.000000</td>\n",
       "    </tr>\n",
       "    <tr>\n",
       "      <th>Credibility</th>\n",
       "      <td>1.000000</td>\n",
       "      <td>1.000000</td>\n",
       "      <td>1.000000</td>\n",
       "    </tr>\n",
       "    <tr>\n",
       "      <th>Traceability</th>\n",
       "      <td>0.083896</td>\n",
       "      <td>0.947927</td>\n",
       "      <td>0.947927</td>\n",
       "    </tr>\n",
       "    <tr>\n",
       "      <th>Hacc</th>\n",
       "      <td>9.799804</td>\n",
       "      <td>9.799804</td>\n",
       "      <td>9.799804</td>\n",
       "    </tr>\n",
       "    <tr>\n",
       "      <th>Hmax</th>\n",
       "      <td>10.018200</td>\n",
       "      <td>10.018200</td>\n",
       "      <td>10.018200</td>\n",
       "    </tr>\n",
       "    <tr>\n",
       "      <th>Currentness</th>\n",
       "      <td>0.978200</td>\n",
       "      <td>0.978200</td>\n",
       "      <td>0.978200</td>\n",
       "    </tr>\n",
       "    <tr>\n",
       "      <th>Completeness</th>\n",
       "      <td>0.958534</td>\n",
       "      <td>0.958534</td>\n",
       "      <td>0.958534</td>\n",
       "    </tr>\n",
       "    <tr>\n",
       "      <th>Availability</th>\n",
       "      <td>1.000000</td>\n",
       "      <td>1.000000</td>\n",
       "      <td>1.000000</td>\n",
       "    </tr>\n",
       "  </tbody>\n",
       "</table>\n",
       "</div>"
      ],
      "text/plain": [
       "              Extraction  Preprocessing  Processing\n",
       "Compliance     54.000000      54.000000   54.000000\n",
       "Credibility     1.000000       1.000000    1.000000\n",
       "Traceability    0.083896       0.947927    0.947927\n",
       "Hacc            9.799804       9.799804    9.799804\n",
       "Hmax           10.018200      10.018200   10.018200\n",
       "Currentness     0.978200       0.978200    0.978200\n",
       "Completeness    0.958534       0.958534    0.958534\n",
       "Availability    1.000000       1.000000    1.000000"
      ]
     },
     "metadata": {},
     "output_type": "display_data"
    },
    {
     "name": "stdout",
     "output_type": "stream",
     "text": [
      "Veracity:\n"
     ]
    },
    {
     "data": {
      "text/html": [
       "<div>\n",
       "<style scoped>\n",
       "    .dataframe tbody tr th:only-of-type {\n",
       "        vertical-align: middle;\n",
       "    }\n",
       "\n",
       "    .dataframe tbody tr th {\n",
       "        vertical-align: top;\n",
       "    }\n",
       "\n",
       "    .dataframe thead th {\n",
       "        text-align: right;\n",
       "    }\n",
       "</style>\n",
       "<table border=\"1\" class=\"dataframe\">\n",
       "  <thead>\n",
       "    <tr style=\"text-align: right;\">\n",
       "      <th></th>\n",
       "      <th>Extraction</th>\n",
       "      <th>Preprocessing</th>\n",
       "      <th>Processing</th>\n",
       "      <th>Average</th>\n",
       "    </tr>\n",
       "  </thead>\n",
       "  <tbody>\n",
       "    <tr>\n",
       "      <th>T1</th>\n",
       "      <td>0.353634</td>\n",
       "      <td>0.564504</td>\n",
       "      <td>0.564504</td>\n",
       "      <td>0.494214</td>\n",
       "    </tr>\n",
       "    <tr>\n",
       "      <th>T2</th>\n",
       "      <td>0.421273</td>\n",
       "      <td>0.638349</td>\n",
       "      <td>0.638349</td>\n",
       "      <td>0.565990</td>\n",
       "    </tr>\n",
       "    <tr>\n",
       "      <th>T3</th>\n",
       "      <td>0.495273</td>\n",
       "      <td>0.712245</td>\n",
       "      <td>0.712245</td>\n",
       "      <td>0.639921</td>\n",
       "    </tr>\n",
       "  </tbody>\n",
       "</table>\n",
       "</div>"
      ],
      "text/plain": [
       "    Extraction  Preprocessing  Processing   Average\n",
       "T1    0.353634       0.564504    0.564504  0.494214\n",
       "T2    0.421273       0.638349    0.638349  0.565990\n",
       "T3    0.495273       0.712245    0.712245  0.639921"
      ]
     },
     "metadata": {},
     "output_type": "display_data"
    },
    {
     "name": "stdout",
     "output_type": "stream",
     "text": [
      "Validity:\n"
     ]
    },
    {
     "data": {
      "text/html": [
       "<div>\n",
       "<style scoped>\n",
       "    .dataframe tbody tr th:only-of-type {\n",
       "        vertical-align: middle;\n",
       "    }\n",
       "\n",
       "    .dataframe tbody tr th {\n",
       "        vertical-align: top;\n",
       "    }\n",
       "\n",
       "    .dataframe thead th {\n",
       "        text-align: right;\n",
       "    }\n",
       "</style>\n",
       "<table border=\"1\" class=\"dataframe\">\n",
       "  <thead>\n",
       "    <tr style=\"text-align: right;\">\n",
       "      <th></th>\n",
       "      <th>Extraction</th>\n",
       "      <th>Preprocessing</th>\n",
       "      <th>Processing</th>\n",
       "      <th>Average</th>\n",
       "    </tr>\n",
       "  </thead>\n",
       "  <tbody>\n",
       "    <tr>\n",
       "      <th>T1</th>\n",
       "      <td>7.5</td>\n",
       "      <td>7.5</td>\n",
       "      <td>7.5</td>\n",
       "      <td>7.5</td>\n",
       "    </tr>\n",
       "    <tr>\n",
       "      <th>T2</th>\n",
       "      <td>18.0</td>\n",
       "      <td>18.0</td>\n",
       "      <td>18.0</td>\n",
       "      <td>18.0</td>\n",
       "    </tr>\n",
       "    <tr>\n",
       "      <th>T3</th>\n",
       "      <td>27.5</td>\n",
       "      <td>27.5</td>\n",
       "      <td>27.5</td>\n",
       "      <td>27.5</td>\n",
       "    </tr>\n",
       "  </tbody>\n",
       "</table>\n",
       "</div>"
      ],
      "text/plain": [
       "    Extraction  Preprocessing  Processing  Average\n",
       "T1         7.5            7.5         7.5      7.5\n",
       "T2        18.0           18.0        18.0     18.0\n",
       "T3        27.5           27.5        27.5     27.5"
      ]
     },
     "metadata": {},
     "output_type": "display_data"
    },
    {
     "name": "stdout",
     "output_type": "stream",
     "text": [
      "Vincularity:\n"
     ]
    },
    {
     "data": {
      "text/html": [
       "<div>\n",
       "<style scoped>\n",
       "    .dataframe tbody tr th:only-of-type {\n",
       "        vertical-align: middle;\n",
       "    }\n",
       "\n",
       "    .dataframe tbody tr th {\n",
       "        vertical-align: top;\n",
       "    }\n",
       "\n",
       "    .dataframe thead th {\n",
       "        text-align: right;\n",
       "    }\n",
       "</style>\n",
       "<table border=\"1\" class=\"dataframe\">\n",
       "  <thead>\n",
       "    <tr style=\"text-align: right;\">\n",
       "      <th></th>\n",
       "      <th>Extraction</th>\n",
       "      <th>Preprocessing</th>\n",
       "      <th>Processing</th>\n",
       "      <th>Average</th>\n",
       "    </tr>\n",
       "  </thead>\n",
       "  <tbody>\n",
       "    <tr>\n",
       "      <th>T1</th>\n",
       "      <td>0.118841</td>\n",
       "      <td>0.959420</td>\n",
       "      <td>0.959420</td>\n",
       "      <td>0.679227</td>\n",
       "    </tr>\n",
       "    <tr>\n",
       "      <th>T2</th>\n",
       "      <td>0.088278</td>\n",
       "      <td>0.949349</td>\n",
       "      <td>0.949349</td>\n",
       "      <td>0.662325</td>\n",
       "    </tr>\n",
       "    <tr>\n",
       "      <th>T3</th>\n",
       "      <td>0.083896</td>\n",
       "      <td>0.947927</td>\n",
       "      <td>0.947927</td>\n",
       "      <td>0.659916</td>\n",
       "    </tr>\n",
       "  </tbody>\n",
       "</table>\n",
       "</div>"
      ],
      "text/plain": [
       "    Extraction  Preprocessing  Processing   Average\n",
       "T1    0.118841       0.959420    0.959420  0.679227\n",
       "T2    0.088278       0.949349    0.949349  0.662325\n",
       "T3    0.083896       0.947927    0.947927  0.659916"
      ]
     },
     "metadata": {},
     "output_type": "display_data"
    },
    {
     "data": {
      "image/png": "[encoded data removed]",
      "text/plain": [
       "<Figure size 1275x850 with 1 Axes>"
      ]
     },
     "metadata": {},
     "output_type": "display_data"
    },
    {
     "data": {
      "image/png": "[encoded data removed]",
      "text/plain": [
       "<Figure size 1275x850 with 1 Axes>"
      ]
     },
     "metadata": {},
     "output_type": "display_data"
    },
    {
     "data": {
      "image/png": "[encoded data removed]",
      "text/plain": [
       "<Figure size 1275x850 with 1 Axes>"
      ]
     },
     "metadata": {},
     "output_type": "display_data"
    }
   ],
   "source": [
    "pipeline(df)"
   ]
  },
  {
   "cell_type": "code",
   "execution_count": null,
   "id": "8b7e4ae1-09fe-47a0-8a06-9b4facd99f13",
   "metadata": {},
   "outputs": [],
   "source": []
  },
  {
   "cell_type": "code",
   "execution_count": null,
   "id": "652c0f69",
   "metadata": {},
   "outputs": [],
   "source": []
  }
 ],
 "metadata": {
  "colab": {
   "collapsed_sections": [],
   "name": "data-cleaning-and-eda.ipynb",
   "provenance": []
  },
  "kernelspec": {
   "display_name": "Python 3 (ipykernel)",
   "language": "python",
   "name": "python3"
  },
  "language_info": {
   "codemirror_mode": {
    "name": "ipython",
    "version": 3
   },
   "file_extension": ".py",
   "mimetype": "text/x-python",
   "name": "python",
   "nbconvert_exporter": "python",
   "pygments_lexer": "ipython3",
   "version": "3.9.12"
  },
  "papermill": {
   "default_parameters": {},
   "duration": 28.03659,
   "end_time": "2022-03-15T21:38:21.611229",
   "environment_variables": {},
   "exception": null,
   "input_path": "__notebook__.ipynb",
   "output_path": "__notebook__.ipynb",
   "parameters": {},
   "start_time": "2022-03-15T21:37:53.574639",
   "version": "2.3.3"
  }
 },
 "nbformat": 4,
 "nbformat_minor": 5
}
