{
 "cells": [
  {
   "cell_type": "code",
   "execution_count": 27,
   "id": "9a3bec9e",
   "metadata": {
    "id": "9a3bec9e",
    "papermill": {
     "duration": 0.933579,
     "end_time": "2022-03-15T21:38:05.829673",
     "exception": false,
     "start_time": "2022-03-15T21:38:04.896094",
     "status": "completed"
    },
    "tags": []
   },
   "outputs": [],
   "source": [
    "import pandas as pd\n",
    "import numpy as np\n",
    "import matplotlib.pyplot as plt\n",
    "import matplotlib\n",
    "import math\n",
    "matplotlib.rcParams['figure.figsize'] = (12.75,8.5)"
   ]
  },
  {
   "cell_type": "raw",
   "id": "8207f722",
   "metadata": {
    "colab": {
     "base_uri": "https://localhost:8080/"
    },
    "id": "EtXgy9jtfKWR",
    "outputId": "84a5d7f7-336f-4480-cf5d-facbbbe3c840"
   },
   "source": [
    "# # Mazen only code\n",
    "# from google.colab import drive\n",
    "# drive.mount('/content/drive')\n",
    "\n",
    "# %cd 'drive/MyDrive/Concordia/SOEN 6611 - Measurements/Project'"
   ]
  },
  {
   "cell_type": "raw",
   "id": "aad032bc",
   "metadata": {
    "id": "LWYBDe2itmXR"
   },
   "source": [
    "# # Reza only code\n",
    "# from google.colab import drive\n",
    "# drive.mount('/content/drive')\n",
    "\n",
    "# %cd 'drive/MyDrive'"
   ]
  },
  {
   "cell_type": "code",
   "execution_count": 28,
   "id": "195867b7-6441-45a6-af78-325f67de29d1",
   "metadata": {
    "colab": {
     "base_uri": "https://localhost:8080/",
     "height": 354
    },
    "id": "195867b7-6441-45a6-af78-325f67de29d1",
    "outputId": "a4bb1f9f-6dc6-47b7-b222-3e85293a4a02"
   },
   "outputs": [
    {
     "data": {
      "text/html": [
       "<div>\n",
       "<style scoped>\n",
       "    .dataframe tbody tr th:only-of-type {\n",
       "        vertical-align: middle;\n",
       "    }\n",
       "\n",
       "    .dataframe tbody tr th {\n",
       "        vertical-align: top;\n",
       "    }\n",
       "\n",
       "    .dataframe thead th {\n",
       "        text-align: right;\n",
       "    }\n",
       "</style>\n",
       "<table border=\"1\" class=\"dataframe\">\n",
       "  <thead>\n",
       "    <tr style=\"text-align: right;\">\n",
       "      <th></th>\n",
       "      <th>Company</th>\n",
       "      <th>Valuation ($B)</th>\n",
       "      <th>Date Joined</th>\n",
       "      <th>Country</th>\n",
       "      <th>City</th>\n",
       "      <th>Industry</th>\n",
       "      <th>Select Inverstors</th>\n",
       "      <th>Founded Year</th>\n",
       "      <th>Total Raised</th>\n",
       "      <th>Financial Stage</th>\n",
       "      <th>Investors Count</th>\n",
       "      <th>Deal Terms</th>\n",
       "      <th>Portfolio Exits</th>\n",
       "    </tr>\n",
       "  </thead>\n",
       "  <tbody>\n",
       "    <tr>\n",
       "      <th>0</th>\n",
       "      <td>Bytedance</td>\n",
       "      <td>$140</td>\n",
       "      <td>4/7/2017</td>\n",
       "      <td>China</td>\n",
       "      <td>Beijing</td>\n",
       "      <td>Artificial intelligence</td>\n",
       "      <td>Sequoia Capital China, SIG Asia Investments, S...</td>\n",
       "      <td>2012</td>\n",
       "      <td>$7.44B</td>\n",
       "      <td>IPO</td>\n",
       "      <td>28</td>\n",
       "      <td>8</td>\n",
       "      <td>5</td>\n",
       "    </tr>\n",
       "    <tr>\n",
       "      <th>1</th>\n",
       "      <td>SpaceX</td>\n",
       "      <td>$100.3</td>\n",
       "      <td>12/1/2012</td>\n",
       "      <td>United States</td>\n",
       "      <td>Hawthorne</td>\n",
       "      <td>Other</td>\n",
       "      <td>Founders Fund, Draper Fisher Jurvetson, Rothen...</td>\n",
       "      <td>2002</td>\n",
       "      <td>$6.874B</td>\n",
       "      <td>None</td>\n",
       "      <td>29</td>\n",
       "      <td>12</td>\n",
       "      <td>None</td>\n",
       "    </tr>\n",
       "    <tr>\n",
       "      <th>2</th>\n",
       "      <td>Stripe</td>\n",
       "      <td>$95</td>\n",
       "      <td>1/23/2014</td>\n",
       "      <td>United States</td>\n",
       "      <td>San Francisco</td>\n",
       "      <td>Fintech</td>\n",
       "      <td>Khosla Ventures, LowercaseCapital, capitalG</td>\n",
       "      <td>2010</td>\n",
       "      <td>$2.901B</td>\n",
       "      <td>Asset</td>\n",
       "      <td>39</td>\n",
       "      <td>12</td>\n",
       "      <td>1</td>\n",
       "    </tr>\n",
       "    <tr>\n",
       "      <th>3</th>\n",
       "      <td>Klarna</td>\n",
       "      <td>$45.6</td>\n",
       "      <td>12/12/2011</td>\n",
       "      <td>Sweden</td>\n",
       "      <td>Stockholm</td>\n",
       "      <td>Fintech</td>\n",
       "      <td>Institutional Venture Partners, Sequoia Capita...</td>\n",
       "      <td>2005</td>\n",
       "      <td>$3.472B</td>\n",
       "      <td>Acquired</td>\n",
       "      <td>56</td>\n",
       "      <td>13</td>\n",
       "      <td>1</td>\n",
       "    </tr>\n",
       "    <tr>\n",
       "      <th>4</th>\n",
       "      <td>Epic Games</td>\n",
       "      <td>$42</td>\n",
       "      <td>10/26/2018</td>\n",
       "      <td>United States</td>\n",
       "      <td>Cary</td>\n",
       "      <td>Other</td>\n",
       "      <td>Tencent Holdings, KKR, Smash Ventures</td>\n",
       "      <td>1991</td>\n",
       "      <td>$4.377B</td>\n",
       "      <td>Acquired</td>\n",
       "      <td>25</td>\n",
       "      <td>5</td>\n",
       "      <td>2</td>\n",
       "    </tr>\n",
       "  </tbody>\n",
       "</table>\n",
       "</div>"
      ],
      "text/plain": [
       "      Company Valuation ($B) Date Joined        Country           City  \\\n",
       "0   Bytedance           $140    4/7/2017          China        Beijing   \n",
       "1      SpaceX         $100.3   12/1/2012  United States      Hawthorne   \n",
       "2      Stripe            $95   1/23/2014  United States  San Francisco   \n",
       "3      Klarna          $45.6  12/12/2011         Sweden      Stockholm   \n",
       "4  Epic Games            $42  10/26/2018  United States           Cary   \n",
       "\n",
       "                  Industry                                  Select Inverstors  \\\n",
       "0  Artificial intelligence  Sequoia Capital China, SIG Asia Investments, S...   \n",
       "1                    Other  Founders Fund, Draper Fisher Jurvetson, Rothen...   \n",
       "2                  Fintech        Khosla Ventures, LowercaseCapital, capitalG   \n",
       "3                  Fintech  Institutional Venture Partners, Sequoia Capita...   \n",
       "4                    Other              Tencent Holdings, KKR, Smash Ventures   \n",
       "\n",
       "  Founded Year Total Raised Financial Stage Investors Count Deal Terms  \\\n",
       "0         2012       $7.44B             IPO              28          8   \n",
       "1         2002      $6.874B            None              29         12   \n",
       "2         2010      $2.901B           Asset              39         12   \n",
       "3         2005      $3.472B        Acquired              56         13   \n",
       "4         1991      $4.377B        Acquired              25          5   \n",
       "\n",
       "  Portfolio Exits  \n",
       "0               5  \n",
       "1            None  \n",
       "2               1  \n",
       "3               1  \n",
       "4               2  "
      ]
     },
     "execution_count": 28,
     "metadata": {},
     "output_type": "execute_result"
    }
   ],
   "source": [
    "df = pd.read_csv(\"./Unicorn_Companies.csv\")\n",
    "df.head()"
   ]
  },
  {
   "cell_type": "code",
   "execution_count": 29,
   "id": "9ad2b524-8de2-47d4-8d95-95cfd521342b",
   "metadata": {
    "colab": {
     "base_uri": "https://localhost:8080/",
     "height": 193
    },
    "id": "9ad2b524-8de2-47d4-8d95-95cfd521342b",
    "outputId": "d0511e96-d229-4220-b6c9-c7860af09476"
   },
   "outputs": [
    {
     "name": "stdout",
     "output_type": "stream",
     "text": [
      "(1037, 13)\n"
     ]
    },
    {
     "data": {
      "text/html": [
       "<div>\n",
       "<style scoped>\n",
       "    .dataframe tbody tr th:only-of-type {\n",
       "        vertical-align: middle;\n",
       "    }\n",
       "\n",
       "    .dataframe tbody tr th {\n",
       "        vertical-align: top;\n",
       "    }\n",
       "\n",
       "    .dataframe thead th {\n",
       "        text-align: right;\n",
       "    }\n",
       "</style>\n",
       "<table border=\"1\" class=\"dataframe\">\n",
       "  <thead>\n",
       "    <tr style=\"text-align: right;\">\n",
       "      <th></th>\n",
       "      <th>Company</th>\n",
       "      <th>Valuation ($B)</th>\n",
       "      <th>Date Joined</th>\n",
       "      <th>Country</th>\n",
       "      <th>City</th>\n",
       "      <th>Industry</th>\n",
       "      <th>Select Inverstors</th>\n",
       "      <th>Founded Year</th>\n",
       "      <th>Total Raised</th>\n",
       "      <th>Financial Stage</th>\n",
       "      <th>Investors Count</th>\n",
       "      <th>Deal Terms</th>\n",
       "      <th>Portfolio Exits</th>\n",
       "    </tr>\n",
       "  </thead>\n",
       "  <tbody>\n",
       "    <tr>\n",
       "      <th>count</th>\n",
       "      <td>1037</td>\n",
       "      <td>1037</td>\n",
       "      <td>1037</td>\n",
       "      <td>1037</td>\n",
       "      <td>1037</td>\n",
       "      <td>1037</td>\n",
       "      <td>1037</td>\n",
       "      <td>1037</td>\n",
       "      <td>1037</td>\n",
       "      <td>1037</td>\n",
       "      <td>1037</td>\n",
       "      <td>1037</td>\n",
       "      <td>1037</td>\n",
       "    </tr>\n",
       "    <tr>\n",
       "      <th>unique</th>\n",
       "      <td>1035</td>\n",
       "      <td>200</td>\n",
       "      <td>623</td>\n",
       "      <td>46</td>\n",
       "      <td>256</td>\n",
       "      <td>33</td>\n",
       "      <td>1006</td>\n",
       "      <td>37</td>\n",
       "      <td>914</td>\n",
       "      <td>10</td>\n",
       "      <td>54</td>\n",
       "      <td>16</td>\n",
       "      <td>5</td>\n",
       "    </tr>\n",
       "    <tr>\n",
       "      <th>top</th>\n",
       "      <td>Bolt</td>\n",
       "      <td>$1</td>\n",
       "      <td>7/13/2021</td>\n",
       "      <td>United States</td>\n",
       "      <td>San Francisco</td>\n",
       "      <td>Fintech</td>\n",
       "      <td>None</td>\n",
       "      <td>2015</td>\n",
       "      <td>None</td>\n",
       "      <td>None</td>\n",
       "      <td>10</td>\n",
       "      <td>1</td>\n",
       "      <td>None</td>\n",
       "    </tr>\n",
       "    <tr>\n",
       "      <th>freq</th>\n",
       "      <td>2</td>\n",
       "      <td>244</td>\n",
       "      <td>9</td>\n",
       "      <td>536</td>\n",
       "      <td>145</td>\n",
       "      <td>205</td>\n",
       "      <td>17</td>\n",
       "      <td>144</td>\n",
       "      <td>24</td>\n",
       "      <td>988</td>\n",
       "      <td>69</td>\n",
       "      <td>280</td>\n",
       "      <td>988</td>\n",
       "    </tr>\n",
       "  </tbody>\n",
       "</table>\n",
       "</div>"
      ],
      "text/plain": [
       "       Company Valuation ($B) Date Joined        Country           City  \\\n",
       "count     1037           1037        1037           1037           1037   \n",
       "unique    1035            200         623             46            256   \n",
       "top       Bolt             $1   7/13/2021  United States  San Francisco   \n",
       "freq         2            244           9            536            145   \n",
       "\n",
       "       Industry Select Inverstors Founded Year Total Raised Financial Stage  \\\n",
       "count      1037              1037         1037         1037            1037   \n",
       "unique       33              1006           37          914              10   \n",
       "top     Fintech              None         2015         None            None   \n",
       "freq        205                17          144           24             988   \n",
       "\n",
       "       Investors Count Deal Terms Portfolio Exits  \n",
       "count             1037       1037            1037  \n",
       "unique              54         16               5  \n",
       "top                 10          1            None  \n",
       "freq                69        280             988  "
      ]
     },
     "execution_count": 29,
     "metadata": {},
     "output_type": "execute_result"
    }
   ],
   "source": [
    "print(df.shape)\n",
    "df.describe()"
   ]
  },
  {
   "cell_type": "markdown",
   "id": "c62306bc-6c1b-47c7-98f9-8cae7ad56b8e",
   "metadata": {},
   "source": [
    "# Indicators, Base measures, and Derived measures calculation definition"
   ]
  },
  {
   "cell_type": "markdown",
   "id": "8_zcpyGZmAAl",
   "metadata": {
    "id": "8_zcpyGZmAAl"
   },
   "source": [
    "## Veracity"
   ]
  },
  {
   "cell_type": "markdown",
   "id": "dq58ZDuTsCZo",
   "metadata": {
    "id": "dq58ZDuTsCZo"
   },
   "source": [
    "### Length of Big Data (Lbd)"
   ]
  },
  {
   "cell_type": "code",
   "execution_count": 30,
   "id": "R_svJb7dsJEr",
   "metadata": {
    "colab": {
     "base_uri": "https://localhost:8080/"
    },
    "id": "R_svJb7dsJEr",
    "outputId": "fb540d6f-28fd-4ece-a205-d413a7fb33a8"
   },
   "outputs": [
    {
     "name": "stdout",
     "output_type": "stream",
     "text": [
      "Lbd = 1037\n"
     ]
    }
   ],
   "source": [
    "Lbd = df.shape[0]\n",
    "print('Lbd = ' + str(Lbd))"
   ]
  },
  {
   "cell_type": "markdown",
   "id": "SRJ-SRCwmE9f",
   "metadata": {
    "id": "SRJ-SRCwmE9f"
   },
   "source": [
    "### Number of Duplicates"
   ]
  },
  {
   "cell_type": "code",
   "execution_count": 31,
   "id": "rpLwK1LvlxRV",
   "metadata": {
    "colab": {
     "base_uri": "https://localhost:8080/",
     "height": 208
    },
    "id": "rpLwK1LvlxRV",
    "outputId": "69e08049-7f08-4683-b380-1d489fa57e9b"
   },
   "outputs": [
    {
     "data": {
      "text/html": [
       "<div>\n",
       "<style scoped>\n",
       "    .dataframe tbody tr th:only-of-type {\n",
       "        vertical-align: middle;\n",
       "    }\n",
       "\n",
       "    .dataframe tbody tr th {\n",
       "        vertical-align: top;\n",
       "    }\n",
       "\n",
       "    .dataframe thead th {\n",
       "        text-align: right;\n",
       "    }\n",
       "</style>\n",
       "<table border=\"1\" class=\"dataframe\">\n",
       "  <thead>\n",
       "    <tr style=\"text-align: right;\">\n",
       "      <th></th>\n",
       "      <th>Company</th>\n",
       "      <th>Valuation ($B)</th>\n",
       "      <th>Date Joined</th>\n",
       "      <th>Country</th>\n",
       "      <th>City</th>\n",
       "      <th>Industry</th>\n",
       "      <th>Select Inverstors</th>\n",
       "      <th>Founded Year</th>\n",
       "      <th>Total Raised</th>\n",
       "      <th>Financial Stage</th>\n",
       "      <th>Investors Count</th>\n",
       "      <th>Deal Terms</th>\n",
       "      <th>Portfolio Exits</th>\n",
       "    </tr>\n",
       "  </thead>\n",
       "  <tbody>\n",
       "    <tr>\n",
       "      <th>63</th>\n",
       "      <td>Bolt</td>\n",
       "      <td>$8.4</td>\n",
       "      <td>5/29/2018</td>\n",
       "      <td>Estonia</td>\n",
       "      <td>Tallinn</td>\n",
       "      <td>Auto &amp; transportation</td>\n",
       "      <td>Didi Chuxing, Diamler, TMT Investments</td>\n",
       "      <td>2013</td>\n",
       "      <td>$1.971B</td>\n",
       "      <td>None</td>\n",
       "      <td>28</td>\n",
       "      <td>5</td>\n",
       "      <td>None</td>\n",
       "    </tr>\n",
       "    <tr>\n",
       "      <th>976</th>\n",
       "      <td>Fabric</td>\n",
       "      <td>$1</td>\n",
       "      <td>10/26/2021</td>\n",
       "      <td>United States</td>\n",
       "      <td>New York</td>\n",
       "      <td>Supply chain, logistics, &amp; delivery</td>\n",
       "      <td>Innovation Endeavors, Aleph, Temasek</td>\n",
       "      <td>1999</td>\n",
       "      <td>None</td>\n",
       "      <td>None</td>\n",
       "      <td>1</td>\n",
       "      <td>1</td>\n",
       "      <td>None</td>\n",
       "    </tr>\n",
       "  </tbody>\n",
       "</table>\n",
       "</div>"
      ],
      "text/plain": [
       "    Company Valuation ($B) Date Joined        Country      City  \\\n",
       "63     Bolt           $8.4   5/29/2018        Estonia   Tallinn   \n",
       "976  Fabric             $1  10/26/2021  United States  New York   \n",
       "\n",
       "                                Industry  \\\n",
       "63                 Auto & transportation   \n",
       "976  Supply chain, logistics, & delivery   \n",
       "\n",
       "                          Select Inverstors Founded Year Total Raised  \\\n",
       "63   Didi Chuxing, Diamler, TMT Investments         2013      $1.971B   \n",
       "976    Innovation Endeavors, Aleph, Temasek         1999         None   \n",
       "\n",
       "    Financial Stage Investors Count Deal Terms Portfolio Exits  \n",
       "63             None              28          5            None  \n",
       "976            None               1          1            None  "
      ]
     },
     "execution_count": 31,
     "metadata": {},
     "output_type": "execute_result"
    }
   ],
   "source": [
    "bool_duplicates = df.duplicated(subset='Company', keep='first')\n",
    "df[bool_duplicates]"
   ]
  },
  {
   "cell_type": "code",
   "execution_count": 32,
   "id": "IHesQpUemtEx",
   "metadata": {
    "colab": {
     "base_uri": "https://localhost:8080/",
     "height": 355
    },
    "id": "IHesQpUemtEx",
    "outputId": "3a5099f5-a1c1-418c-d683-e26980cf5a3e"
   },
   "outputs": [
    {
     "data": {
      "text/html": [
       "<div>\n",
       "<style scoped>\n",
       "    .dataframe tbody tr th:only-of-type {\n",
       "        vertical-align: middle;\n",
       "    }\n",
       "\n",
       "    .dataframe tbody tr th {\n",
       "        vertical-align: top;\n",
       "    }\n",
       "\n",
       "    .dataframe thead th {\n",
       "        text-align: right;\n",
       "    }\n",
       "</style>\n",
       "<table border=\"1\" class=\"dataframe\">\n",
       "  <thead>\n",
       "    <tr style=\"text-align: right;\">\n",
       "      <th></th>\n",
       "      <th>Company</th>\n",
       "      <th>Valuation ($B)</th>\n",
       "      <th>Date Joined</th>\n",
       "      <th>Country</th>\n",
       "      <th>City</th>\n",
       "      <th>Industry</th>\n",
       "      <th>Select Inverstors</th>\n",
       "      <th>Founded Year</th>\n",
       "      <th>Total Raised</th>\n",
       "      <th>Financial Stage</th>\n",
       "      <th>Investors Count</th>\n",
       "      <th>Deal Terms</th>\n",
       "      <th>Portfolio Exits</th>\n",
       "    </tr>\n",
       "  </thead>\n",
       "  <tbody>\n",
       "    <tr>\n",
       "      <th>37</th>\n",
       "      <td>Bolt</td>\n",
       "      <td>$11</td>\n",
       "      <td>10/8/2021</td>\n",
       "      <td>United States</td>\n",
       "      <td>San Francisco</td>\n",
       "      <td>Fintech</td>\n",
       "      <td>Activant Capital, Tribe Capital, General Atlantic</td>\n",
       "      <td>2014</td>\n",
       "      <td>$963M</td>\n",
       "      <td>None</td>\n",
       "      <td>37</td>\n",
       "      <td>3</td>\n",
       "      <td>None</td>\n",
       "    </tr>\n",
       "    <tr>\n",
       "      <th>63</th>\n",
       "      <td>Bolt</td>\n",
       "      <td>$8.4</td>\n",
       "      <td>5/29/2018</td>\n",
       "      <td>Estonia</td>\n",
       "      <td>Tallinn</td>\n",
       "      <td>Auto &amp; transportation</td>\n",
       "      <td>Didi Chuxing, Diamler, TMT Investments</td>\n",
       "      <td>2013</td>\n",
       "      <td>$1.971B</td>\n",
       "      <td>None</td>\n",
       "      <td>28</td>\n",
       "      <td>5</td>\n",
       "      <td>None</td>\n",
       "    </tr>\n",
       "  </tbody>\n",
       "</table>\n",
       "</div>"
      ],
      "text/plain": [
       "   Company Valuation ($B) Date Joined        Country           City  \\\n",
       "37    Bolt            $11   10/8/2021  United States  San Francisco   \n",
       "63    Bolt           $8.4   5/29/2018        Estonia        Tallinn   \n",
       "\n",
       "                 Industry                                  Select Inverstors  \\\n",
       "37                Fintech  Activant Capital, Tribe Capital, General Atlantic   \n",
       "63  Auto & transportation             Didi Chuxing, Diamler, TMT Investments   \n",
       "\n",
       "   Founded Year Total Raised Financial Stage Investors Count Deal Terms  \\\n",
       "37         2014        $963M            None              37          3   \n",
       "63         2013      $1.971B            None              28          5   \n",
       "\n",
       "   Portfolio Exits  \n",
       "37            None  \n",
       "63            None  "
      ]
     },
     "metadata": {},
     "output_type": "display_data"
    },
    {
     "data": {
      "text/html": [
       "<div>\n",
       "<style scoped>\n",
       "    .dataframe tbody tr th:only-of-type {\n",
       "        vertical-align: middle;\n",
       "    }\n",
       "\n",
       "    .dataframe tbody tr th {\n",
       "        vertical-align: top;\n",
       "    }\n",
       "\n",
       "    .dataframe thead th {\n",
       "        text-align: right;\n",
       "    }\n",
       "</style>\n",
       "<table border=\"1\" class=\"dataframe\">\n",
       "  <thead>\n",
       "    <tr style=\"text-align: right;\">\n",
       "      <th></th>\n",
       "      <th>Company</th>\n",
       "      <th>Valuation ($B)</th>\n",
       "      <th>Date Joined</th>\n",
       "      <th>Country</th>\n",
       "      <th>City</th>\n",
       "      <th>Industry</th>\n",
       "      <th>Select Inverstors</th>\n",
       "      <th>Founded Year</th>\n",
       "      <th>Total Raised</th>\n",
       "      <th>Financial Stage</th>\n",
       "      <th>Investors Count</th>\n",
       "      <th>Deal Terms</th>\n",
       "      <th>Portfolio Exits</th>\n",
       "    </tr>\n",
       "  </thead>\n",
       "  <tbody>\n",
       "    <tr>\n",
       "      <th>578</th>\n",
       "      <td>Fabric</td>\n",
       "      <td>$1.5</td>\n",
       "      <td>2/24/2022</td>\n",
       "      <td>United States</td>\n",
       "      <td>Bellevue</td>\n",
       "      <td>E-commerce &amp; direct-to-consumer</td>\n",
       "      <td>Redpoint Ventures, Norwest Venture Partners, S...</td>\n",
       "      <td>2017</td>\n",
       "      <td>$292.58M</td>\n",
       "      <td>None</td>\n",
       "      <td>11</td>\n",
       "      <td>2</td>\n",
       "      <td>None</td>\n",
       "    </tr>\n",
       "    <tr>\n",
       "      <th>976</th>\n",
       "      <td>Fabric</td>\n",
       "      <td>$1</td>\n",
       "      <td>10/26/2021</td>\n",
       "      <td>United States</td>\n",
       "      <td>New York</td>\n",
       "      <td>Supply chain, logistics, &amp; delivery</td>\n",
       "      <td>Innovation Endeavors, Aleph, Temasek</td>\n",
       "      <td>1999</td>\n",
       "      <td>None</td>\n",
       "      <td>None</td>\n",
       "      <td>1</td>\n",
       "      <td>1</td>\n",
       "      <td>None</td>\n",
       "    </tr>\n",
       "  </tbody>\n",
       "</table>\n",
       "</div>"
      ],
      "text/plain": [
       "    Company Valuation ($B) Date Joined        Country      City  \\\n",
       "578  Fabric           $1.5   2/24/2022  United States  Bellevue   \n",
       "976  Fabric             $1  10/26/2021  United States  New York   \n",
       "\n",
       "                                Industry  \\\n",
       "578      E-commerce & direct-to-consumer   \n",
       "976  Supply chain, logistics, & delivery   \n",
       "\n",
       "                                     Select Inverstors Founded Year  \\\n",
       "578  Redpoint Ventures, Norwest Venture Partners, S...         2017   \n",
       "976               Innovation Endeavors, Aleph, Temasek         1999   \n",
       "\n",
       "    Total Raised Financial Stage Investors Count Deal Terms Portfolio Exits  \n",
       "578     $292.58M            None              11          2            None  \n",
       "976         None            None               1          1            None  "
      ]
     },
     "metadata": {},
     "output_type": "display_data"
    }
   ],
   "source": [
    "display( df[df['Company'] == 'Bolt'] )\n",
    "display( df[df['Company'] == 'Fabric'] )"
   ]
  },
  {
   "cell_type": "code",
   "execution_count": 33,
   "id": "mgISXVJ7nuVa",
   "metadata": {
    "colab": {
     "base_uri": "https://localhost:8080/"
    },
    "id": "mgISXVJ7nuVa",
    "outputId": "5c4c1c16-750c-4e7a-e095-211ca0369a77"
   },
   "outputs": [
    {
     "name": "stdout",
     "output_type": "stream",
     "text": [
      "The number of duplicates = 0\n"
     ]
    }
   ],
   "source": [
    "def num_duplicates(df):\n",
    "    bool_duplicates = df.duplicated(keep='first')\n",
    "    num_dup = df[bool_duplicates].shape[0]\n",
    "    return num_dup\n",
    "\n",
    "print('The number of duplicates = ' + str(num_duplicates(df)))"
   ]
  },
  {
   "cell_type": "markdown",
   "id": "QxUJMhvksmHm",
   "metadata": {
    "id": "QxUJMhvksmHm"
   },
   "source": [
    "### Accuracy"
   ]
  },
  {
   "cell_type": "code",
   "execution_count": 34,
   "id": "d6b613aa",
   "metadata": {},
   "outputs": [],
   "source": [
    "def hacc(Lbd, num_dup): \n",
    "    # Hacc(MDS) = log2(Lbd) – (1 / Lbd) x ∑j={1…k}pj log2 (pj)\n",
    "    Hacc = math.log(Lbd, 2) - ((1 / Lbd) * num_dup * math.log(num_dup, 2))\n",
    "    return Hacc"
   ]
  },
  {
   "cell_type": "code",
   "execution_count": 35,
   "id": "0f0fd02d",
   "metadata": {},
   "outputs": [],
   "source": [
    "def hmax(Lbd):\n",
    "    return math.log(Lbd, 2)"
   ]
  },
  {
   "cell_type": "code",
   "execution_count": 36,
   "id": "KuYiiPL6soS5",
   "metadata": {
    "colab": {
     "base_uri": "https://localhost:8080/"
    },
    "id": "KuYiiPL6soS5",
    "outputId": "2f4ab474-3265-463a-fd73-129e5778265a"
   },
   "outputs": [
    {
     "data": {
      "text/plain": [
       "1.0"
      ]
     },
     "execution_count": 36,
     "metadata": {},
     "output_type": "execute_result"
    }
   ],
   "source": [
    "def accuracy(Lbd, num_dup):\n",
    "    Hmax = hmax(Lbd)\n",
    "    if num_dup == 0:\n",
    "        Hacc = Hmax\n",
    "    else:\n",
    "        Hacc = hacc(Lbd,num_dup)\n",
    "    accuracy = Hacc / Hmax\n",
    "    return accuracy\n",
    "\n",
    "accuracy(Lbd, num_duplicates(df))"
   ]
  },
  {
   "cell_type": "markdown",
   "id": "a2c7570f-6997-4749-859c-579338a52621",
   "metadata": {},
   "source": [
    "### Currentness"
   ]
  },
  {
   "cell_type": "code",
   "execution_count": 37,
   "id": "4a2b9f29-0d20-4fbe-b1c3-b963953b0ff4",
   "metadata": {},
   "outputs": [
    {
     "data": {
      "text/plain": [
<<<<<<< HEAD
       "<matplotlib.axes._subplots.AxesSubplot at 0x7fc7c2409220>"
=======
       "<AxesSubplot:>"
>>>>>>> 7f3c32ebab3eafc85f5a5be4cfb2bf632dc3854e
      ]
     },
     "execution_count": 37,
     "metadata": {},
     "output_type": "execute_result"
    },
    {
     "data": {
      "image/png": "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\n",
      "text/plain": [
       "<Figure size 1275x850 with 1 Axes>"
      ]
     },
     "metadata": {},
     "output_type": "display_data"
    }
   ],
   "source": [
    "df[\"Date Joined\"] = pd.to_datetime(df[\"Date Joined\"]).astype('int64') // 10**9\n",
    "df[df[\"Founded Year\"] == \"None\"] = None\n",
    "df[\"Founded Year\"] = pd.to_datetime(df[\"Founded Year\"]).astype('int64') // 10**9\n",
    "\n",
    "df.boxplot(column =['Date Joined'])"
   ]
  },
  {
   "cell_type": "code",
   "execution_count": 38,
   "id": "1a6489e7-67de-4dd7-bcd1-6ba27f87b943",
   "metadata": {},
   "outputs": [
    {
     "data": {
      "text/plain": [
       "0.9585342333654774"
      ]
     },
     "execution_count": 38,
     "metadata": {},
     "output_type": "execute_result"
    }
   ],
   "source": [
    "def currentness(df, Lbd):\n",
    "    df_copy = df.copy()\n",
    "    \n",
    "    df_copy['Date Joined'] = pd.to_datetime(df_copy['Date Joined']).astype('int64') // 10**9\n",
    "    quantiles = df_copy.quantile([0.25, 0.5, 0.75])\n",
    "    lower_quartile = quantiles.iloc[0]['Date Joined']\n",
    "    upper_quartile = quantiles.iloc[2]['Date Joined']\n",
    "    acceptable_age = df_copy.shape[0] - (df_copy[df_copy['Date Joined'] < lower_quartile].shape[0] + df_copy[df_copy['Date Joined'] > upper_quartile].shape[0])\n",
    "    currentness = acceptable_age / Lbd\n",
    "    return currentness\n",
    "\n",
    "currentness(df, Lbd)"
   ]
  },
  {
   "cell_type": "markdown",
   "id": "88b077f2-600e-4814-bd38-789ff5651663",
   "metadata": {},
   "source": [
    "### Completeness"
   ]
  },
  {
   "cell_type": "code",
   "execution_count": 39,
   "id": "6a334bb1-8536-46da-8c25-345fb2047e9d",
   "metadata": {},
   "outputs": [
    {
     "data": {
      "text/plain": [
       "0.044358727097396335"
      ]
     },
     "execution_count": 39,
     "metadata": {},
     "output_type": "execute_result"
    }
   ],
   "source": [
    "def completeness(df): \n",
    "    df_n = df.replace('None', np.nan)\n",
    "    df_n = df_n[~df_n.isnull().any(1)]\n",
    "    return len(df_n)/len(df)\n",
    "\n",
    "completeness(df)"
   ]
  },
  {
   "cell_type": "markdown",
   "id": "e505bd08-b8bd-45d5-b285-3b9f8e7e2069",
   "metadata": {},
   "source": [
    "### Availability\n",
    "Because the system is not deployed, we cannot know the number of successful requests and the total number of requests, so we will set availability to 0."
   ]
  },
  {
   "cell_type": "code",
   "execution_count": 40,
   "id": "c7c84eee-a8a9-44a5-b534-93e111df2b0b",
   "metadata": {},
   "outputs": [],
   "source": [
    "availability = 0"
   ]
  },
  {
   "cell_type": "markdown",
   "id": "7dd53fff-4ddb-4189-b056-c1176c018d7e",
   "metadata": {},
   "source": [
    "### Veracity"
   ]
  },
  {
   "cell_type": "code",
   "execution_count": 41,
   "id": "dbd58b00-a4ad-4dc2-9dc8-fcd72ed84cc2",
   "metadata": {},
   "outputs": [
    {
     "data": {
      "text/plain": [
       "0.49527324282067126"
      ]
     },
     "execution_count": 41,
     "metadata": {},
     "output_type": "execute_result"
    }
   ],
   "source": [
    "def veracity(df):\n",
    "    w_acc = 1/4\n",
    "    w_comp = 1/4\n",
    "    w_cur = 1/4\n",
    "    w_avail = 1/4\n",
    "\n",
    "    veracity = accuracy(Lbd, num_duplicates(df)) * w_acc + completeness(df) * w_comp + currentness(df, Lbd) * w_cur + availability * w_avail \n",
    "    return veracity\n",
    "\n",
    "veracity(df)"
   ]
  },
  {
   "cell_type": "markdown",
   "id": "297a2dee-2dce-4814-98c0-6ca731924c07",
   "metadata": {},
   "source": [
    "## Validity"
   ]
  },
  {
   "cell_type": "markdown",
   "id": "9304128a-c3b7-4914-b15c-7bbc6dadc225",
   "metadata": {},
   "source": [
    "### Number of Datasets (NDS)"
   ]
  },
  {
   "cell_type": "code",
   "execution_count": 42,
   "id": "9fc3eb26-c3dc-4009-889b-e26193197cb8",
   "metadata": {},
   "outputs": [],
   "source": [
    "Nds = 1"
   ]
  },
  {
   "cell_type": "markdown",
   "id": "cc76a156-a617-49ef-80d3-44822630ca1f",
   "metadata": {},
   "source": [
    "### Credibility\n",
    "\n",
    "Assume that the source for each of the datasets are credible"
   ]
  },
  {
   "cell_type": "code",
   "execution_count": 43,
   "id": "567d049b-349b-4f90-ae5a-c42b128ecebe",
   "metadata": {},
   "outputs": [
    {
     "data": {
      "text/plain": [
       "1.0"
      ]
     },
     "execution_count": 43,
     "metadata": {},
     "output_type": "execute_result"
    }
   ],
   "source": [
    "def credibility():\n",
    "    Nds_cr = Nds\n",
    "    return Nds_cr / Nds\n",
    "credibility()"
   ]
  },
  {
   "cell_type": "markdown",
   "id": "0f6f975b-1753-48f0-adce-ac0a909c0355",
   "metadata": {},
   "source": [
    "### Compliance\n",
    "Assume that we are not compliant with countries that have their 'Industry' as 'Other'"
   ]
  },
  {
   "cell_type": "code",
   "execution_count": 44,
   "id": "6dde6ee3-a474-4825-a007-e15815ac52a6",
   "metadata": {},
   "outputs": [
    {
     "data": {
      "text/plain": [
       "54.0"
      ]
     },
     "execution_count": 44,
     "metadata": {},
     "output_type": "execute_result"
    }
   ],
   "source": [
    "def compliance(df, Nds):\n",
    "    Nrec_comp = df[df[\"Industry\"] == \"Other\"].shape[0]\n",
    "    return Nrec_comp / Nds\n",
    "\n",
    "compliance(df, Nds)"
   ]
  },
  {
   "cell_type": "markdown",
   "id": "ffe20fcb-1de0-48ce-8122-95c7ed1bd935",
   "metadata": {},
   "source": [
    "### Validity"
   ]
  },
  {
   "cell_type": "code",
   "execution_count": 45,
   "id": "1b0f7ca9-36f8-4de3-89e3-8e9b8c48bea4",
   "metadata": {},
   "outputs": [
    {
     "data": {
      "text/plain": [
       "27.5"
      ]
     },
     "execution_count": 45,
     "metadata": {},
     "output_type": "execute_result"
    }
   ],
   "source": [
    "def validity(df, Nds=1):\n",
    "    w_cred = 1/2\n",
    "    w_comp = 1/2\n",
    "    return credibility() * w_cred + compliance(df, Nds) * w_comp\n",
    "\n",
    "validity(df, Nds)"
   ]
  },
  {
   "cell_type": "markdown",
   "id": "4f106c99",
   "metadata": {},
   "source": [
    "## Vincularity"
   ]
  },
  {
   "cell_type": "markdown",
   "id": "8231aa26",
   "metadata": {},
   "source": [
    "### Traceability"
   ]
  },
  {
   "cell_type": "code",
   "execution_count": 46,
   "id": "37d7a0f3",
   "metadata": {},
   "outputs": [],
   "source": [
    "def traceability(df, Nds=1):\n",
    "    Ldst = len(df)\n",
    "    df2 = df.loc[(df['Industry'] == 'Other') \n",
    "                 | (df['Select Inverstors'].isin(['None','']))\n",
    "                 | (df['Founded Year'].isin(['None',''])) \n",
    "                 | (df['Financial Stage'].isin(['None','']) \n",
    "                    if 'Financial Stage' in df.columns else False)]\n",
    "\n",
    "    Rec_trace = len(df) - len(df2)\n",
    "    return Rec_trace/Ldst"
   ]
  },
  {
   "cell_type": "markdown",
   "id": "55a02ac8",
   "metadata": {},
   "source": [
    "### Vincularity"
   ]
  },
  {
   "cell_type": "code",
   "execution_count": 47,
   "id": "37d3b587",
   "metadata": {},
   "outputs": [],
   "source": [
    "def vincularity(MDS , Nds):\n",
    "    traceabilities = 0\n",
    "    for i in MDS: \n",
    "        traceabilities += traceability(i, Nds)\n",
    "    return traceabilities/Nds"
   ]
  },
  {
   "cell_type": "code",
   "execution_count": 48,
   "id": "ec69a827",
   "metadata": {},
   "outputs": [
    {
     "data": {
      "text/plain": [
       "0.08389585342333655"
      ]
     },
     "execution_count": 48,
     "metadata": {},
     "output_type": "execute_result"
    }
   ],
   "source": [
    "MDS = [df]\n",
    "vincularity(MDS, Nds)"
   ]
  },
  {
   "cell_type": "markdown",
   "id": "0c3eebde-3b28-4a89-b516-35176682dab8",
   "metadata": {},
   "source": [
    "# Indicators calculation"
   ]
  },
  {
   "cell_type": "code",
   "execution_count": 49,
   "id": "302f3422-9b78-4c3f-90a3-25ec7ceb234e",
   "metadata": {},
   "outputs": [],
   "source": [
    "def get_indicators(df):\n",
    "    Mver = veracity(df)\n",
    "    Mval = validity(df, Nds)\n",
    "    Mvin = vincularity([df], Nds)\n",
    "    print(\"Mver = \" + str(Mver) + \", Mval = \" + str(Mval) + \", Mvin = \" + str(Mvin))\n",
    "    return Mver, Mval, Mvin"
   ]
  },
  {
   "cell_type": "markdown",
   "id": "1ca39e45-a798-4697-bd4e-5786066c6ff6",
   "metadata": {},
   "source": [
    "# Data Extraction"
   ]
  },
  {
   "cell_type": "code",
   "execution_count": 50,
   "id": "28b35e47-97e4-4b98-be6e-67b60edaf0d7",
   "metadata": {},
   "outputs": [],
   "source": [
    "def extract_data(df):\n",
    "    df1 = df.iloc[0 : int(len(df)/3), :]\n",
    "    df2 = df.iloc[: int(2*len(df)/3), :] # data from int(len(df)/3) : int(2*len(df)/3) has been added\n",
    "    df3 = df.iloc[:, :]  # data from int(2*len(df)/3) to end has been added\n",
    "    return df1, df2, df3"
   ]
  },
  {
   "cell_type": "code",
   "execution_count": 51,
   "id": "3ec4ee41-a777-4a03-b12d-01eb0c781e96",
   "metadata": {},
   "outputs": [
    {
     "name": "stdout",
     "output_type": "stream",
     "text": [
      "Mver = 0.3536343807226837, Mval = 7.5, Mvin = 0.11884057971014493\n",
      "Mver = 0.42127264881249105, Mval = 18.0, Mvin = 0.08827785817655572\n",
      "Mver = 0.49527324282067126, Mval = 27.5, Mvin = 0.08389585342333655\n"
     ]
    },
    {
     "data": {
      "text/plain": [
       "(0.49527324282067126, 27.5, 0.08389585342333655)"
      ]
     },
     "execution_count": 51,
     "metadata": {},
     "output_type": "execute_result"
    }
   ],
   "source": [
    "(df1, df2, df3) = extract_data(df)\n",
    "get_indicators(df1)\n",
    "get_indicators(df2)\n",
    "get_indicators(df3)"
   ]
  },
  {
   "cell_type": "markdown",
   "id": "2a2bf380-977e-4746-809c-540974ece859",
   "metadata": {},
   "source": [
    "# Data preprocessing"
   ]
  },
  {
   "cell_type": "code",
   "execution_count": 52,
   "id": "01000074-d6d1-4430-b361-20e82149c8b4",
   "metadata": {},
   "outputs": [],
   "source": [
    "def preprocess(df):\n",
    "    df_pre = df.copy()\n",
    "    \n",
    "    # replace all \"None\" with None\n",
    "    df_pre = df_pre.replace(to_replace = \"None\", value =None)\n",
    "    \n",
    "    # convert date strings to pandas date\n",
    "    df_pre[\"Date Joined\"] = pd.to_datetime(df_pre[\"Date Joined\"])\n",
    "    df_pre[\"Founded Year\"] = pd.to_datetime(df_pre[\"Founded Year\"])\n",
    "    \n",
    "    # Convert valuation from string to float\n",
    "    df_pre[\"Valuation ($B)\"] = df_pre[\"Valuation ($B)\"].replace({\"\\$\": \"\"}, regex=True)\n",
    "    df_pre[\"Valuation ($B)\"] = df_pre[\"Valuation ($B)\"].astype(float)\n",
    "    \n",
    "    \n",
    "    unite = df_pre[\"Total Raised\"].str[-1]\n",
    "\n",
    "    df_pre[\"Total Raised\"] = df_pre[\"Total Raised\"].replace({\"\\$\": \"\", \"B$\": \"\", \"M$\": \"\", \"None\": np.nan, \"K$\": \"\"}, regex=True).astype(float)\n",
    "\n",
    "    for i, row in df_pre.iterrows():\n",
    "        if unite[i] == \"B\":\n",
    "            df_pre.loc[i, \"Total Raised\"] = row[\"Total Raised\"] * int(1e9)\n",
    "        elif unite[i] == \"M\":\n",
    "            df_pre.loc[i, \"Total Raised\"] = row[\"Total Raised\"] * int(1e6)\n",
    "        elif unite[i] == \"K\":\n",
    "            df_pre.loc[i, \"Total Raised\"] = row[\"Total Raised\"] * int(1e3)\n",
    "\n",
    "    # remove columns with too manu null values \"Portfolio Exits\" and \"Financial Stage\"\n",
    "    df_pre = df_pre.drop([\"Financial Stage\",\"Portfolio Exits\"], axis=1)\n",
    "    return df_pre"
   ]
  },
  {
   "cell_type": "code",
   "execution_count": 53,
   "id": "5c4667ef-9f85-40a4-be99-f7126fe97853",
   "metadata": {},
   "outputs": [
    {
     "name": "stdout",
     "output_type": "stream",
     "text": [
      "Mver = 0.564503945940075, Mval = 7.5, Mvin = 0.9594202898550724\n"
     ]
    },
    {
     "data": {
      "text/plain": [
       "(0.564503945940075, 7.5, 0.9594202898550724)"
      ]
     },
     "execution_count": 53,
     "metadata": {},
     "output_type": "execute_result"
    }
   ],
   "source": [
    "df1_pre = preprocess(df1)\n",
    "get_indicators(df1_pre)"
   ]
  },
  {
   "cell_type": "code",
   "execution_count": 54,
   "id": "520496cd-5ab0-4d96-a446-c4e2c13d4df8",
   "metadata": {},
   "outputs": [],
   "source": [
    "def process(df):\n",
    "    df_pro = df.copy()\n",
    "    \n",
    "    df_pro[\"Country\"] = df_pro[\"Country\"].astype('category')\n",
    "    df_pro[\"City\"] = df_pro[\"City\"].astype('category')\n",
    "    df_pro[\"Industry\"] = df_pro[\"Industry\"].astype('category')\n",
    "    \n",
    "    # normalize columns\n",
    "    unnormalized_cols = [\"Valuation ($B)\", \"Total Raised\"]\n",
    "    df_pro[unnormalized_cols] = df_pro[unnormalized_cols].apply(lambda x: (x - x.min()) / (x.max() - x.min()))\n",
    "    \n",
    "    return df_pro"
   ]
  },
  {
   "cell_type": "markdown",
   "id": "8dd1f1de",
   "metadata": {},
   "source": [
    "### Results of derive measures "
   ]
  },
  {
   "cell_type": "code",
   "execution_count": 55,
   "id": "9583c06e",
   "metadata": {},
   "outputs": [],
   "source": [
    "def extract_drive_measures(all_dfs): # {\"T1\": [df1, df1_pre, df1_pro], . . .\n",
    "    columns = ['Extraction' , 'Preprocessing', 'Processing']\n",
    "\n",
    "    for k in all_dfs: # keys T1,T2,T3\n",
    "        df_res = pd.DataFrame(columns = columns,\n",
    "                              index=['Compliance', \n",
    "                                     'Credibility', \n",
    "                                     'Traceability', \n",
    "                                     'Hacc', \n",
    "                                     'Hmax', \n",
    "                                     'Currentness', \n",
    "                                     'Completeness', \n",
    "                                     'Availability'])\n",
    "        \n",
    "        for i, s in enumerate(all_dfs[k]): \n",
    "            data = np.array(\n",
    "                [compliance(s, Nds),\n",
    "                 credibility(),\n",
    "                 traceability(s),\n",
    "                 hacc(s.shape[0],num_duplicates(s)), \n",
    "                 hmax(s.shape[0]),\n",
    "                 accuracy(s.shape[0],num_duplicates(s)), \n",
    "                 currentness(s,s.shape[0]), \n",
    "                 1])\n",
    "            df_res[columns[i]] = data.tolist()\n",
    "        print(f\"time frame: {k}\")\n",
    "        display(df_res)\n"
   ]
  },
  {
   "cell_type": "markdown",
   "id": "fd9f6f93-edc7-436e-857f-6744bede3709",
   "metadata": {},
   "source": [
    "# Data Pipeline (Data Extraction, Data Preprocessing, Data Processing)"
   ]
  },
  {
   "cell_type": "code",
<<<<<<< HEAD
   "execution_count": 30,
=======
   "execution_count": 60,
>>>>>>> 7f3c32ebab3eafc85f5a5be4cfb2bf632dc3854e
   "id": "8fbbce76-5752-4a2d-9a55-1dd3ca9e45cf",
   "metadata": {},
   "outputs": [],
   "source": [
    "def pipeline(df, Nds = 1):\n",
    "    (df1, df2, df3) = extract_data(df)\n",
    "    \n",
    "    # Time frame 1\n",
    "    (Mver1_ext, Mval1_ext, Mvin1_ext) = get_indicators(df1)\n",
    "    \n",
    "    df1_pre = preprocess(df1)\n",
    "    (Mver1_pre, Mval1_pre, Mvin1_pre) = get_indicators(df1_pre)\n",
    "    \n",
    "    df1_pro = process(df1_pre)\n",
    "    (Mver1_pro, Mval1_pro, Mvin1_pro) = get_indicators(df1_pro)\n",
    "    \n",
    "    # Time frame 2\n",
    "    (Mver2_ext, Mval2_ext, Mvin2_ext) = get_indicators(df2)\n",
    "    \n",
    "    df2_pre = preprocess(df2)\n",
    "    (Mver2_pre, Mval2_pre,  Mvin2_pre) = get_indicators(df2_pre)\n",
    "    \n",
    "    df2_pro = process(df2_pre)\n",
    "    (Mver2_pro, Mval2_pro, Mvin2_pro) = get_indicators(df2_pro)\n",
    "    \n",
    "    # Time frame 3\n",
    "    (Mver3_ext, Mval3_ext, Mvin3_ext) = get_indicators(df3)\n",
    "    \n",
    "    df3_pre = preprocess(df3)\n",
    "    (Mver3_pre, Mval3_pre, Mvin3_pre) = get_indicators(df3_pre)\n",
    "    \n",
    "    df3_pro = process(df3_pre)\n",
    "    (Mver3_pro, Mval3_pro, Mvin3_pro) = get_indicators(df3_pro)\n",
    "    \n",
    "    \n",
    "    \n",
    "    all_dfs = {\"T1\": [df1, df1_pre, df1_pro],\n",
    "               \"T2\": [df2, df2_pre, df2_pro], \n",
    "               \"T3\": [df3, df3_pre, df3_pro]}\n",
    "\n",
    "    # extract tables for each time frame\n",
    "    extract_drive_measures(all_dfs)\n",
    "    \n",
    "    # plot the indicators\n",
    "    data_ver = [[ Mver1_ext, Mver1_pre, Mver1_pro],\n",
    "                [ Mver2_ext, Mver2_pre, Mver2_pro],\n",
    "                [ Mver3_ext, Mver3_pre, Mver3_pro]]\n",
<<<<<<< HEAD
    "    \n",
    "    data_val = [[ Mval1_ext, Mval1_pre, Mval1_pro],\n",
    "                [ Mval2_ext, Mval2_pre, Mval2_pro],\n",
    "                [ Mval3_ext, Mval3_pre, Mval3_pro]]\n",
    "    \n",
=======
    "    \n",
    "    data_val = [[ Mval1_ext, Mval1_pre, Mval1_pro],\n",
    "                [ Mval2_ext, Mval2_pre, Mval2_pro],\n",
    "                [ Mval3_ext, Mval3_pre, Mval3_pro]]\n",
    "    \n",
>>>>>>> 7f3c32ebab3eafc85f5a5be4cfb2bf632dc3854e
    "    \n",
    "    data_vin = [[ Mvin1_ext, Mvin1_pre, Mvin1_pro],\n",
    "                [ Mvin2_ext, Mvin2_pre, Mvin2_pro],\n",
    "                [ Mvin3_ext, Mvin3_pre, Mvin3_pro]]\n",
    "  \n",
    "    \n",
    "    # tables of result\n",
    "    df_ver = pd.DataFrame(data_ver, columns = ['Extraction' , 'Preprocessing', 'Processing'],\n",
    "                          index=['T1', 'T2', 'T3'])\n",
    "    df_val = pd.DataFrame(data_val, columns = ['Extraction' , 'Preprocessing', 'Processing'],\n",
    "                          index=['T1', 'T2', 'T3'])\n",
    "    df_vin = pd.DataFrame(data_vin, columns = ['Extraction' , 'Preprocessing', 'Processing'],\n",
    "                          index=['T1', 'T2', 'T3'])\n",
    "    \n",
    "    plotIndicator(df_ver, 'Veracity')\n",
    "    plotIndicator(df_val, 'Validity')\n",
    "    plotIndicator(df_vin, 'Vincularity')\n",
    "    \n",
    "    df_ver['Average'] = df_ver.mean(axis=1)\n",
    "    df_val['Average'] = df_val.mean(axis=1)\n",
    "    df_vin['Average'] = df_vin.mean(axis=1)\n",
    "    \n",
    "    print('Veracity:')\n",
    "    display(df_ver)\n",
    "    print('Validity:')\n",
    "    display(df_val)\n",
    "    print('Vincularity:')\n",
    "    display(df_vin)"
   ]
  },
  {
   "cell_type": "code",
<<<<<<< HEAD
   "execution_count": 31,
=======
   "execution_count": 61,
>>>>>>> 7f3c32ebab3eafc85f5a5be4cfb2bf632dc3854e
   "id": "5edfb6d0-8db7-46e7-b583-5d1a7eefee6d",
   "metadata": {},
   "outputs": [],
   "source": [
    "def plotIndicator(data, title):\n",
    "    data.plot(kind=\"bar\")\n",
    "    plt.title(title)\n",
    "    plt.xlabel(\"Time frame\")\n"
   ]
  },
  {
   "cell_type": "code",
<<<<<<< HEAD
   "execution_count": 32,
=======
   "execution_count": 62,
>>>>>>> 7f3c32ebab3eafc85f5a5be4cfb2bf632dc3854e
   "id": "09e46c37-241d-4c8f-8ac4-a54a216b0496",
   "metadata": {},
   "outputs": [
    {
     "name": "stdout",
     "output_type": "stream",
     "text": [
      "Mver = 0.3536343807226837, Mval = 7.5, Mvin = 0.11884057971014493\n",
      "Mver = 0.564503945940075, Mval = 7.5, Mvin = 0.9594202898550724\n",
      "Mver = 0.564503945940075, Mval = 7.5, Mvin = 0.9594202898550724\n",
      "Mver = 0.42127264881249105, Mval = 18.0, Mvin = 0.08827785817655572\n",
      "Mver = 0.6383493492466444, Mval = 18.0, Mvin = 0.9493487698986975\n",
      "Mver = 0.6383493492466444, Mval = 18.0, Mvin = 0.9493487698986975\n",
      "Mver = 0.49527324282067126, Mval = 27.5, Mvin = 0.08389585342333655\n",
      "Mver = 0.7122452775361968, Mval = 27.5, Mvin = 0.9479267116682739\n",
      "Mver = 0.7122452775361968, Mval = 27.5, Mvin = 0.9479267116682739\n",
      "time frame: T1\n"
     ]
    },
    {
     "data": {
      "text/html": [
       "<div>\n",
       "<style scoped>\n",
       "    .dataframe tbody tr th:only-of-type {\n",
       "        vertical-align: middle;\n",
       "    }\n",
       "\n",
       "    .dataframe tbody tr th {\n",
       "        vertical-align: top;\n",
       "    }\n",
       "\n",
       "    .dataframe thead th {\n",
       "        text-align: right;\n",
       "    }\n",
       "</style>\n",
       "<table border=\"1\" class=\"dataframe\">\n",
       "  <thead>\n",
       "    <tr style=\"text-align: right;\">\n",
       "      <th></th>\n",
       "      <th>Extraction</th>\n",
       "      <th>Preprocessing</th>\n",
       "      <th>Processing</th>\n",
       "    </tr>\n",
       "  </thead>\n",
       "  <tbody>\n",
       "    <tr>\n",
       "      <th>Compliance</th>\n",
       "      <td>14.000000</td>\n",
       "      <td>14.000000</td>\n",
       "      <td>14.000000</td>\n",
       "    </tr>\n",
       "    <tr>\n",
       "      <th>Credibility</th>\n",
       "      <td>1.000000</td>\n",
       "      <td>1.000000</td>\n",
       "      <td>1.000000</td>\n",
       "    </tr>\n",
       "    <tr>\n",
       "      <th>Traceability</th>\n",
       "      <td>0.118841</td>\n",
       "      <td>0.959420</td>\n",
       "      <td>0.959420</td>\n",
       "    </tr>\n",
       "    <tr>\n",
       "      <th>Hacc</th>\n",
       "      <td>8.334165</td>\n",
       "      <td>8.334165</td>\n",
       "      <td>8.334165</td>\n",
       "    </tr>\n",
       "    <tr>\n",
       "      <th>Hmax</th>\n",
       "      <td>8.430453</td>\n",
       "      <td>8.430453</td>\n",
       "      <td>8.430453</td>\n",
       "    </tr>\n",
       "    <tr>\n",
       "      <th>Currentness</th>\n",
       "      <td>0.988579</td>\n",
       "      <td>0.988579</td>\n",
       "      <td>0.988579</td>\n",
       "    </tr>\n",
       "    <tr>\n",
       "      <th>Completeness</th>\n",
       "      <td>0.968116</td>\n",
       "      <td>0.968116</td>\n",
       "      <td>0.968116</td>\n",
       "    </tr>\n",
       "    <tr>\n",
       "      <th>Availability</th>\n",
       "      <td>1.000000</td>\n",
       "      <td>1.000000</td>\n",
       "      <td>1.000000</td>\n",
       "    </tr>\n",
       "  </tbody>\n",
       "</table>\n",
       "</div>"
      ],
      "text/plain": [
       "              Extraction  Preprocessing  Processing\n",
       "Compliance     14.000000      14.000000   14.000000\n",
       "Credibility     1.000000       1.000000    1.000000\n",
       "Traceability    0.118841       0.959420    0.959420\n",
       "Hacc            8.334165       8.334165    8.334165\n",
       "Hmax            8.430453       8.430453    8.430453\n",
       "Currentness     0.988579       0.988579    0.988579\n",
       "Completeness    0.968116       0.968116    0.968116\n",
       "Availability    1.000000       1.000000    1.000000"
      ]
     },
     "metadata": {},
     "output_type": "display_data"
    },
    {
     "name": "stdout",
     "output_type": "stream",
     "text": [
      "time frame: T2\n"
     ]
    },
    {
     "data": {
      "text/html": [
       "<div>\n",
       "<style scoped>\n",
       "    .dataframe tbody tr th:only-of-type {\n",
       "        vertical-align: middle;\n",
       "    }\n",
       "\n",
       "    .dataframe tbody tr th {\n",
       "        vertical-align: top;\n",
       "    }\n",
       "\n",
       "    .dataframe thead th {\n",
       "        text-align: right;\n",
       "    }\n",
       "</style>\n",
       "<table border=\"1\" class=\"dataframe\">\n",
       "  <thead>\n",
       "    <tr style=\"text-align: right;\">\n",
       "      <th></th>\n",
       "      <th>Extraction</th>\n",
       "      <th>Preprocessing</th>\n",
       "      <th>Processing</th>\n",
       "    </tr>\n",
       "  </thead>\n",
       "  <tbody>\n",
       "    <tr>\n",
       "      <th>Compliance</th>\n",
       "      <td>35.000000</td>\n",
       "      <td>35.000000</td>\n",
       "      <td>35.000000</td>\n",
       "    </tr>\n",
       "    <tr>\n",
       "      <th>Credibility</th>\n",
       "      <td>1.000000</td>\n",
       "      <td>1.000000</td>\n",
       "      <td>1.000000</td>\n",
       "    </tr>\n",
       "    <tr>\n",
       "      <th>Traceability</th>\n",
       "      <td>0.088278</td>\n",
       "      <td>0.949349</td>\n",
       "      <td>0.949349</td>\n",
       "    </tr>\n",
       "    <tr>\n",
       "      <th>Hacc</th>\n",
       "      <td>9.264530</td>\n",
       "      <td>9.264530</td>\n",
       "      <td>9.264530</td>\n",
       "    </tr>\n",
       "    <tr>\n",
       "      <th>Hmax</th>\n",
       "      <td>9.432542</td>\n",
       "      <td>9.432542</td>\n",
       "      <td>9.432542</td>\n",
       "    </tr>\n",
       "    <tr>\n",
       "      <th>Currentness</th>\n",
       "      <td>0.982188</td>\n",
       "      <td>0.982188</td>\n",
       "      <td>0.982188</td>\n",
       "    </tr>\n",
       "    <tr>\n",
       "      <th>Completeness</th>\n",
       "      <td>0.962373</td>\n",
       "      <td>0.962373</td>\n",
       "      <td>0.962373</td>\n",
       "    </tr>\n",
       "    <tr>\n",
       "      <th>Availability</th>\n",
       "      <td>1.000000</td>\n",
       "      <td>1.000000</td>\n",
       "      <td>1.000000</td>\n",
       "    </tr>\n",
       "  </tbody>\n",
       "</table>\n",
       "</div>"
      ],
      "text/plain": [
       "              Extraction  Preprocessing  Processing\n",
       "Compliance     35.000000      35.000000   35.000000\n",
       "Credibility     1.000000       1.000000    1.000000\n",
       "Traceability    0.088278       0.949349    0.949349\n",
       "Hacc            9.264530       9.264530    9.264530\n",
       "Hmax            9.432542       9.432542    9.432542\n",
       "Currentness     0.982188       0.982188    0.982188\n",
       "Completeness    0.962373       0.962373    0.962373\n",
       "Availability    1.000000       1.000000    1.000000"
      ]
     },
     "metadata": {},
     "output_type": "display_data"
    },
    {
     "name": "stdout",
     "output_type": "stream",
     "text": [
      "time frame: T3\n"
     ]
    },
    {
     "data": {
      "text/html": [
       "<div>\n",
       "<style scoped>\n",
       "    .dataframe tbody tr th:only-of-type {\n",
       "        vertical-align: middle;\n",
       "    }\n",
       "\n",
       "    .dataframe tbody tr th {\n",
       "        vertical-align: top;\n",
       "    }\n",
       "\n",
       "    .dataframe thead th {\n",
       "        text-align: right;\n",
       "    }\n",
       "</style>\n",
       "<table border=\"1\" class=\"dataframe\">\n",
       "  <thead>\n",
       "    <tr style=\"text-align: right;\">\n",
       "      <th></th>\n",
       "      <th>Extraction</th>\n",
       "      <th>Preprocessing</th>\n",
       "      <th>Processing</th>\n",
       "    </tr>\n",
       "  </thead>\n",
       "  <tbody>\n",
       "    <tr>\n",
       "      <th>Compliance</th>\n",
       "      <td>54.000000</td>\n",
       "      <td>54.000000</td>\n",
       "      <td>54.000000</td>\n",
       "    </tr>\n",
       "    <tr>\n",
       "      <th>Credibility</th>\n",
       "      <td>1.000000</td>\n",
       "      <td>1.000000</td>\n",
       "      <td>1.000000</td>\n",
       "    </tr>\n",
       "    <tr>\n",
       "      <th>Traceability</th>\n",
       "      <td>0.083896</td>\n",
       "      <td>0.947927</td>\n",
       "      <td>0.947927</td>\n",
       "    </tr>\n",
       "    <tr>\n",
       "      <th>Hacc</th>\n",
       "      <td>9.799804</td>\n",
       "      <td>9.799804</td>\n",
       "      <td>9.799804</td>\n",
       "    </tr>\n",
       "    <tr>\n",
       "      <th>Hmax</th>\n",
       "      <td>10.018200</td>\n",
       "      <td>10.018200</td>\n",
       "      <td>10.018200</td>\n",
       "    </tr>\n",
       "    <tr>\n",
       "      <th>Currentness</th>\n",
       "      <td>0.978200</td>\n",
       "      <td>0.978200</td>\n",
       "      <td>0.978200</td>\n",
       "    </tr>\n",
       "    <tr>\n",
       "      <th>Completeness</th>\n",
       "      <td>0.958534</td>\n",
       "      <td>0.958534</td>\n",
       "      <td>0.958534</td>\n",
       "    </tr>\n",
       "    <tr>\n",
       "      <th>Availability</th>\n",
       "      <td>1.000000</td>\n",
       "      <td>1.000000</td>\n",
       "      <td>1.000000</td>\n",
       "    </tr>\n",
       "  </tbody>\n",
       "</table>\n",
       "</div>"
      ],
      "text/plain": [
       "              Extraction  Preprocessing  Processing\n",
       "Compliance     54.000000      54.000000   54.000000\n",
       "Credibility     1.000000       1.000000    1.000000\n",
       "Traceability    0.083896       0.947927    0.947927\n",
       "Hacc            9.799804       9.799804    9.799804\n",
       "Hmax           10.018200      10.018200   10.018200\n",
       "Currentness     0.978200       0.978200    0.978200\n",
       "Completeness    0.958534       0.958534    0.958534\n",
       "Availability    1.000000       1.000000    1.000000"
      ]
     },
     "metadata": {},
     "output_type": "display_data"
    },
    {
     "name": "stdout",
     "output_type": "stream",
     "text": [
      "Veracity:\n"
     ]
    },
    {
     "data": {
      "text/html": [
       "<div>\n",
       "<style scoped>\n",
       "    .dataframe tbody tr th:only-of-type {\n",
       "        vertical-align: middle;\n",
       "    }\n",
       "\n",
       "    .dataframe tbody tr th {\n",
       "        vertical-align: top;\n",
       "    }\n",
       "\n",
       "    .dataframe thead th {\n",
       "        text-align: right;\n",
       "    }\n",
       "</style>\n",
       "<table border=\"1\" class=\"dataframe\">\n",
       "  <thead>\n",
       "    <tr style=\"text-align: right;\">\n",
       "      <th></th>\n",
       "      <th>Extraction</th>\n",
       "      <th>Preprocessing</th>\n",
       "      <th>Processing</th>\n",
       "      <th>Average</th>\n",
       "    </tr>\n",
       "  </thead>\n",
       "  <tbody>\n",
       "    <tr>\n",
       "      <th>T1</th>\n",
       "      <td>0.353634</td>\n",
       "      <td>0.564504</td>\n",
       "      <td>0.564504</td>\n",
       "      <td>0.494214</td>\n",
       "    </tr>\n",
       "    <tr>\n",
       "      <th>T2</th>\n",
       "      <td>0.421273</td>\n",
       "      <td>0.638349</td>\n",
       "      <td>0.638349</td>\n",
       "      <td>0.565990</td>\n",
       "    </tr>\n",
       "    <tr>\n",
       "      <th>T3</th>\n",
       "      <td>0.495273</td>\n",
<<<<<<< HEAD
       "      <td>0.712245</td>\n",
       "      <td>0.712245</td>\n",
=======
       "      <td>0.712245</td>\n",
       "      <td>0.712245</td>\n",
>>>>>>> 7f3c32ebab3eafc85f5a5be4cfb2bf632dc3854e
       "      <td>0.639921</td>\n",
       "    </tr>\n",
       "  </tbody>\n",
       "</table>\n",
       "</div>"
      ],
      "text/plain": [
       "    Extraction  Preprocessing  Processing   Average\n",
       "T1    0.353634       0.564504    0.564504  0.494214\n",
       "T2    0.421273       0.638349    0.638349  0.565990\n",
       "T3    0.495273       0.712245    0.712245  0.639921"
      ]
     },
     "metadata": {},
     "output_type": "display_data"
    },
    {
     "name": "stdout",
     "output_type": "stream",
     "text": [
      "Validity:\n"
     ]
    },
    {
     "data": {
      "text/html": [
       "<div>\n",
       "<style scoped>\n",
       "    .dataframe tbody tr th:only-of-type {\n",
       "        vertical-align: middle;\n",
       "    }\n",
       "\n",
       "    .dataframe tbody tr th {\n",
       "        vertical-align: top;\n",
       "    }\n",
       "\n",
       "    .dataframe thead th {\n",
       "        text-align: right;\n",
       "    }\n",
       "</style>\n",
       "<table border=\"1\" class=\"dataframe\">\n",
       "  <thead>\n",
       "    <tr style=\"text-align: right;\">\n",
       "      <th></th>\n",
       "      <th>Extraction</th>\n",
       "      <th>Preprocessing</th>\n",
       "      <th>Processing</th>\n",
       "      <th>Average</th>\n",
       "    </tr>\n",
       "  </thead>\n",
       "  <tbody>\n",
       "    <tr>\n",
       "      <th>T1</th>\n",
       "      <td>7.5</td>\n",
       "      <td>7.5</td>\n",
       "      <td>7.5</td>\n",
       "      <td>7.5</td>\n",
       "    </tr>\n",
       "    <tr>\n",
       "      <th>T2</th>\n",
       "      <td>18.0</td>\n",
       "      <td>18.0</td>\n",
       "      <td>18.0</td>\n",
       "      <td>18.0</td>\n",
       "    </tr>\n",
       "    <tr>\n",
       "      <th>T3</th>\n",
       "      <td>27.5</td>\n",
       "      <td>27.5</td>\n",
       "      <td>27.5</td>\n",
       "      <td>27.5</td>\n",
       "    </tr>\n",
       "  </tbody>\n",
       "</table>\n",
       "</div>"
      ],
      "text/plain": [
       "    Extraction  Preprocessing  Processing  Average\n",
       "T1         7.5            7.5         7.5      7.5\n",
       "T2        18.0           18.0        18.0     18.0\n",
       "T3        27.5           27.5        27.5     27.5"
      ]
     },
     "metadata": {},
     "output_type": "display_data"
    },
    {
     "name": "stdout",
     "output_type": "stream",
     "text": [
      "Vincularity:\n"
     ]
    },
    {
     "data": {
      "text/html": [
       "<div>\n",
       "<style scoped>\n",
       "    .dataframe tbody tr th:only-of-type {\n",
       "        vertical-align: middle;\n",
       "    }\n",
       "\n",
       "    .dataframe tbody tr th {\n",
       "        vertical-align: top;\n",
       "    }\n",
       "\n",
       "    .dataframe thead th {\n",
       "        text-align: right;\n",
       "    }\n",
       "</style>\n",
       "<table border=\"1\" class=\"dataframe\">\n",
       "  <thead>\n",
       "    <tr style=\"text-align: right;\">\n",
       "      <th></th>\n",
       "      <th>Extraction</th>\n",
       "      <th>Preprocessing</th>\n",
       "      <th>Processing</th>\n",
       "      <th>Average</th>\n",
       "    </tr>\n",
       "  </thead>\n",
       "  <tbody>\n",
       "    <tr>\n",
       "      <th>T1</th>\n",
       "      <td>0.118841</td>\n",
       "      <td>0.959420</td>\n",
       "      <td>0.959420</td>\n",
       "      <td>0.679227</td>\n",
       "    </tr>\n",
       "    <tr>\n",
       "      <th>T2</th>\n",
       "      <td>0.088278</td>\n",
       "      <td>0.949349</td>\n",
       "      <td>0.949349</td>\n",
       "      <td>0.662325</td>\n",
       "    </tr>\n",
       "    <tr>\n",
       "      <th>T3</th>\n",
       "      <td>0.083896</td>\n",
<<<<<<< HEAD
       "      <td>0.947927</td>\n",
       "      <td>0.947927</td>\n",
=======
       "      <td>0.947927</td>\n",
       "      <td>0.947927</td>\n",
>>>>>>> 7f3c32ebab3eafc85f5a5be4cfb2bf632dc3854e
       "      <td>0.659916</td>\n",
       "    </tr>\n",
       "  </tbody>\n",
       "</table>\n",
       "</div>"
      ],
      "text/plain": [
       "    Extraction  Preprocessing  Processing   Average\n",
       "T1    0.118841       0.959420    0.959420  0.679227\n",
       "T2    0.088278       0.949349    0.949349  0.662325\n",
       "T3    0.083896       0.947927    0.947927  0.659916"
      ]
     },
     "metadata": {},
     "output_type": "display_data"
    },
    {
     "data": {
<<<<<<< HEAD
      "image/png": "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\n",
=======
      "image/png": "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\n",
>>>>>>> 7f3c32ebab3eafc85f5a5be4cfb2bf632dc3854e
      "text/plain": [
       "<Figure size 1275x850 with 1 Axes>"
      ]
     },
     "metadata": {},
     "output_type": "display_data"
    },
    {
     "data": {
<<<<<<< HEAD
      "image/png": "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\n",
=======
      "image/png": "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\n",
>>>>>>> 7f3c32ebab3eafc85f5a5be4cfb2bf632dc3854e
      "text/plain": [
       "<Figure size 1275x850 with 1 Axes>"
      ]
     },
     "metadata": {},
     "output_type": "display_data"
    },
    {
     "data": {
<<<<<<< HEAD
      "image/png": "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\n",
=======
      "image/png": "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\n",
>>>>>>> 7f3c32ebab3eafc85f5a5be4cfb2bf632dc3854e
      "text/plain": [
       "<Figure size 1275x850 with 1 Axes>"
      ]
     },
     "metadata": {},
     "output_type": "display_data"
    }
   ],
   "source": [
    "pipeline(df)"
   ]
  },
  {
   "cell_type": "code",
   "execution_count": null,
   "id": "8b7e4ae1-09fe-47a0-8a06-9b4facd99f13",
   "metadata": {},
   "outputs": [],
   "source": []
  },
  {
   "cell_type": "code",
   "execution_count": null,
   "id": "652c0f69",
   "metadata": {},
   "outputs": [],
   "source": []
  },
  {
   "cell_type": "code",
   "execution_count": null,
   "id": "80cf79bf",
   "metadata": {},
   "outputs": [],
   "source": []
  }
 ],
 "metadata": {
  "colab": {
   "collapsed_sections": [],
   "name": "data-cleaning-and-eda.ipynb",
   "provenance": []
  },
  "kernelspec": {
   "display_name": "Python 3 (ipykernel)",
   "language": "python",
   "name": "python3"
  },
  "language_info": {
   "codemirror_mode": {
    "name": "ipython",
    "version": 3
   },
   "file_extension": ".py",
   "mimetype": "text/x-python",
   "name": "python",
   "nbconvert_exporter": "python",
   "pygments_lexer": "ipython3",
   "version": "3.9.12"
  },
  "papermill": {
   "default_parameters": {},
   "duration": 28.03659,
   "end_time": "2022-03-15T21:38:21.611229",
   "environment_variables": {},
   "exception": null,
   "input_path": "__notebook__.ipynb",
   "output_path": "__notebook__.ipynb",
   "parameters": {},
   "start_time": "2022-03-15T21:37:53.574639",
   "version": "2.3.3"
  }
 },
 "nbformat": 4,
 "nbformat_minor": 5
}
